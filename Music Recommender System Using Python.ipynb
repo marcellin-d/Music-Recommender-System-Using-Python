{
 "cells": [
  {
   "cell_type": "code",
   "execution_count": 206,
   "id": "1a9c7fb2-e804-49bd-92b3-af2c17478d61",
   "metadata": {},
   "outputs": [],
   "source": [
    "import pandas as pd\n",
    "import nltk\n",
    "import re\n",
    "pd.options.display.max_colwidth = None\n",
    "\n",
    "from nltk.stem import WordNetLemmatizer\n",
    "from nltk.tokenize import word_tokenize\n",
    "\n",
    "from nltk import pos_tag\n",
    "from nltk.corpus import wordnet\n"
   ]
  },
  {
   "cell_type": "code",
   "execution_count": 207,
   "id": "8179dea0-cfad-4106-a67d-84146ce23c21",
   "metadata": {},
   "outputs": [],
   "source": [
    "data = pd.read_csv(\"spotify_millsongdata.csv\")"
   ]
  },
  {
   "cell_type": "code",
   "execution_count": 208,
   "id": "8bef921a-fc58-4814-ae0a-414e442c11e6",
   "metadata": {},
   "outputs": [],
   "source": [
    "data.shape\n",
    "\n",
    "data = data.sample(500)"
   ]
  },
  {
   "cell_type": "code",
   "execution_count": 209,
   "id": "a8d04129-60fa-45c2-8f0e-8cb5f7d0ba82",
   "metadata": {},
   "outputs": [
    {
     "data": {
      "text/plain": [
       "artist    0\n",
       "song      0\n",
       "link      0\n",
       "text      0\n",
       "dtype: int64"
      ]
     },
     "execution_count": 209,
     "metadata": {},
     "output_type": "execute_result"
    }
   ],
   "source": [
    "data.isnull().sum()"
   ]
  },
  {
   "cell_type": "code",
   "execution_count": 210,
   "id": "339e7558-4818-46fa-be77-a9f365dc8fd7",
   "metadata": {},
   "outputs": [],
   "source": [
    "# Drop the link column\n",
    "data = data.drop(columns=\"link\").reset_index(drop=True)"
   ]
  },
  {
   "cell_type": "code",
   "execution_count": 211,
   "id": "8fc03b68-ccd1-4521-8835-f7994881bb41",
   "metadata": {},
   "outputs": [
    {
     "data": {
      "text/html": [
       "<div>\n",
       "<style scoped>\n",
       "    .dataframe tbody tr th:only-of-type {\n",
       "        vertical-align: middle;\n",
       "    }\n",
       "\n",
       "    .dataframe tbody tr th {\n",
       "        vertical-align: top;\n",
       "    }\n",
       "\n",
       "    .dataframe thead th {\n",
       "        text-align: right;\n",
       "    }\n",
       "</style>\n",
       "<table border=\"1\" class=\"dataframe\">\n",
       "  <thead>\n",
       "    <tr style=\"text-align: right;\">\n",
       "      <th></th>\n",
       "      <th>artist</th>\n",
       "      <th>song</th>\n",
       "      <th>text</th>\n",
       "    </tr>\n",
       "  </thead>\n",
       "  <tbody>\n",
       "    <tr>\n",
       "      <th>0</th>\n",
       "      <td>Dire Straits</td>\n",
       "      <td>Why Worry</td>\n",
       "      <td>Baby, I see this world has made you sad  \\r\\nSome people can be bad  \\r\\nThe things they do the things they say  \\r\\n  \\r\\nBut baby, I'll wipe away those bitter tears  \\r\\nI'll chase away those restless fears  \\r\\nThat turn your blue skies into gray  \\r\\n  \\r\\nWhy worry  \\r\\nThere should be laughter after pain  \\r\\nThere should be sunshine after rain  \\r\\nThese things have always been the same  \\r\\nSo why worry now  \\r\\nWhy worry now  \\r\\n  \\r\\nBaby, when I get down I turn to you  \\r\\nAnd you make sense of what I do  \\r\\nAnd all the isn't hard is the same  \\r\\n  \\r\\nBut baby, just when this world seems mean and cold  \\r\\nOur love comes shinning red and gold  \\r\\nAnd all the rest is by the way  \\r\\n  \\r\\nWhy worry  \\r\\nThere should be laughter after pain  \\r\\nThere should be sunshine after rain  \\r\\nThese things have always been the same  \\r\\nSo why worry now  \\r\\nWhy worry now\\r\\n\\r\\n</td>\n",
       "    </tr>\n",
       "    <tr>\n",
       "      <th>1</th>\n",
       "      <td>Reba Mcentire</td>\n",
       "      <td>One Thin Dime</td>\n",
       "      <td>Your mind's made up  \\r\\nYou're gonna leave  \\r\\nNothing I can say will stop you so it seems  \\r\\nBut before you up and go  \\r\\nThere's just something you should know  \\r\\nWhen you find that I'm the one you still need  \\r\\n  \\r\\n[Chorus]  \\r\\nOne thin dime  \\r\\nIs all it takes  \\r\\nWhen you need someone who cares  \\r\\nThese arms of mine  \\r\\nAre always open  \\r\\nOne thin dime is all you need  \\r\\nAnd I'll be there  \\r\\n  \\r\\nOh you're chasing rainbows and I understand  \\r\\nWhen you're through I'll take you back again  \\r\\nI'll be waiting patiently  \\r\\nFor when you come back to me  \\r\\nAin't nobody else can love you like I can  \\r\\n  \\r\\n[Chorus]  \\r\\n  \\r\\nYou know the number  \\r\\nI'm always home  \\r\\nSo honey just pick up and dial that telephone  \\r\\nWhen this world treats you unkind  \\r\\nGet your momma on the line  \\r\\nThere ain't no need for you to ever be alone  \\r\\n  \\r\\n[Chorus]  \\r\\n  \\r\\nThese arms of mine  \\r\\nOh they're always open  \\r\\nOne thin dime is all you need  \\r\\nAnd I'll be there\\r\\n\\r\\n</td>\n",
       "    </tr>\n",
       "    <tr>\n",
       "      <th>2</th>\n",
       "      <td>The Script</td>\n",
       "      <td>Fall For Anything</td>\n",
       "      <td>Don't that bring you down, down, down [Repeat: x4]  \\r\\n  \\r\\nDon't give yourself away  \\r\\nDon't live your life that way  \\r\\nOf course he's gonna say  \\r\\nAnything you want  \\r\\nHe'll leave quicker than he came  \\r\\nNow you've got yourself to blame  \\r\\nDon't put yourself back in the fire again  \\r\\n  \\r\\nIt's the same damn thing, you're so quick to believe  \\r\\nAnd do it over and over again  \\r\\nAnd its the same mistakes that I'm watching you make  \\r\\nAnd do it over and over again  \\r\\n  \\r\\nSo before they bring you down  \\r\\n(you gotta stand for something or you'll fall for anything)  \\r\\n'Til you fall for anything, 'til you fall for,  \\r\\nYou gotta stand for something or you'll fall for anything  \\r\\n('Til you fall for anything, 'til you fall for)  \\r\\n  \\r\\nDon't that bring you down, down, down (x4)  \\r\\n  \\r\\nOh  \\r\\nPlease don't be so naive  \\r\\nDon't wait 'til your heart bleeds  \\r\\nLove wasn't built for speed  \\r\\nListen to me girl  \\r\\nHe keeps fucking with your head, tryin' to get you into bed  \\r\\nAnd in the morning you'll just hate yourself  \\r\\n  \\r\\nIt's the same damn thing, you're so quick to believe  \\r\\nAnd do it over nd over again  \\r\\nAnd it's the same mistakes that I'm watching you make  \\r\\nAnd do it over and over and over again  \\r\\n  \\r\\nBefore they bring you down,  \\r\\n(you gotta stand for something or you'll fall for anything)  \\r\\n'Til you fall for anything, 'til you fall for  \\r\\nYou gotta stand for something or you'll fall for anything  \\r\\n('Til you for anything, 'til you fall for)  \\r\\n  \\r\\nDon't that bring you down, down, down [Repeat x4]  \\r\\n  \\r\\n[Repeat x3]  \\r\\nCan you give until there's nothing to give until  \\r\\nThere's nothing to give until there's nothing to give  \\r\\n  \\r\\nBefore they bring you down,  \\r\\n(you gotta stand for something or you'll fall for anything)  \\r\\n'Til you fall for anything, 'til you fall for.  \\r\\nYou gotta stand for something or you'll fall for anything  \\r\\n('Til you fall for anything, 'til you fall for)  \\r\\nYou gotta stand for something or you'll fall for anything  \\r\\n('Til you fall for anything, 'til you fall for)  \\r\\nYou gotta stand for something or you'll fall for anything  \\r\\n('Til you fall for anything)  \\r\\n  \\r\\nBefore they bring you down, down down  \\r\\nDon't that bring you down, down, down [Repeat x4]\\r\\n\\r\\n</td>\n",
       "    </tr>\n",
       "    <tr>\n",
       "      <th>3</th>\n",
       "      <td>Sting</td>\n",
       "      <td>The Wind Cries Mary</td>\n",
       "      <td>After all the jacks are in their boxes  \\r\\nAnd the clowns have all gone to bed  \\r\\nYou can hear happiness  \\r\\nStaggering on down street  \\r\\nFootprints dressed in red  \\r\\nAnd the wind whispers Mary  \\r\\n  \\r\\nA broom is drearily sweeping  \\r\\nUp the broken pieces of yesterday's life  \\r\\nSomewhere a Queen is weeping  \\r\\nSomewhere a King has no wife  \\r\\nAnd the wind it cries Mary  \\r\\n  \\r\\nThe traffic lights they turn blue tomorrow  \\r\\nAnd shine their emptiness down on my bed  \\r\\nThe tiny island sags downstream  \\r\\n'Cause the life they'd lived is dead  \\r\\nAnd the wind screams Mary  \\r\\n  \\r\\nWill the wind ever remember  \\r\\nThe names it has blown in the past  \\r\\nAnd with this crutch, its old age and its wisdom  \\r\\nIt whispers \"No, this will be the last\"  \\r\\nAnd the wind cries Mary\\r\\n\\r\\n</td>\n",
       "    </tr>\n",
       "    <tr>\n",
       "      <th>4</th>\n",
       "      <td>Joni Mitchell</td>\n",
       "      <td>Amelia</td>\n",
       "      <td>I was driving across the burning desert  \\r\\nWhen I spotted six jet planes  \\r\\nLeaving six white vapor trails across the bleak terrain  \\r\\nIt was the hexagram of the heavens  \\r\\nit was the strings of my guitar  \\r\\nAmelia, it was just a false alarm  \\r\\n  \\r\\nThe drone of flying engines  \\r\\nIs a song so wild and blue  \\r\\nIt scrambles time and seasons if it gets through to you  \\r\\nThen your life becomes a travelogue  \\r\\nOf picture-post-card-charms  \\r\\nAmelia, it was just a false alarm  \\r\\n  \\r\\nPeople will tell you where they've gone  \\r\\nThey'll tell you where to go  \\r\\nBut till you get there yourself you never really know  \\r\\nWhere some have found their paradise  \\r\\nOthers just come to harm  \\r\\nOh Amelia, it was just a false alarm  \\r\\n  \\r\\nI wish that he was here tonight  \\r\\nIt's so hard to obey  \\r\\nHis sad request of me to kindly stay away  \\r\\nSo this is how I hide the hurt  \\r\\nAs the road leads cursed and charmed  \\r\\nI tell Amelia, it was just a false alarm  \\r\\n  \\r\\nA ghost of aviation  \\r\\nShe was swallowed by the sky  \\r\\nOr by the sea, like me she had a dream to fly  \\r\\nLike Icarus ascending  \\r\\nOn beautiful foolish arms  \\r\\nAmelia, it was just a false alarm  \\r\\n  \\r\\nMaybe I've never really loved  \\r\\nI guess that is the truth  \\r\\nI've spent my whole life in clouds at icy altitude  \\r\\nAnd looking down on everything  \\r\\nI crashed into his arms  \\r\\nAmelia, it was just a false alarm  \\r\\n  \\r\\nI pulled into the Cactus Tree Motel  \\r\\nTo shower off the dust  \\r\\nAnd I slept on the strange pillows of my wanderlust  \\r\\nI dreamed of 747's  \\r\\nOver geometric farms  \\r\\nDreams, Amelia, dreams and false alarms\\r\\n\\r\\n</td>\n",
       "    </tr>\n",
       "    <tr>\n",
       "      <th>...</th>\n",
       "      <td>...</td>\n",
       "      <td>...</td>\n",
       "      <td>...</td>\n",
       "    </tr>\n",
       "    <tr>\n",
       "      <th>495</th>\n",
       "      <td>Randy Travis</td>\n",
       "      <td>A Little Bitty Crack In Her Heart</td>\n",
       "      <td>Shattered inside and scattered around  \\r\\nWere pieces of her broken heart  \\r\\nI gathered her up, the pieces I found  \\r\\nI put her back together like a busted guitar  \\r\\nBut some glue holds and some glue don't In spite of everything I tried  \\r\\nSomebody's stole my darlin'  \\r\\nRight before my very eyes  \\r\\n  \\r\\nHe didn't walk, talk or push his way in  \\r\\nOr fly through the windows on a gust of hot wind  \\r\\nHe didn't sprout wings  \\r\\nAnd he sure wasn't playin' no harp  \\r\\nAs low as he was, I couldn't see him  \\r\\nSlitherin' around in the dark  \\r\\nHe must've crawled through  \\r\\nA little bitty crack in her heart  \\r\\n  \\r\\nCopin' with hone and hoping i'm wrong  \\r\\nBut I sure see a definite change  \\r\\nThere's look in her eyes that's sayin' goodbye  \\r\\nAnd her snuggle when I hold her don't feel the same  \\r\\nThe way her heart bests for that sneaky thief  \\r\\nYou would picture him dark and tall  \\r\\nBut the feller that stole my darlin'  \\r\\nLord, he'd have to be very small  \\r\\n  \\r\\nHe didn't walk, talk or push his way in  \\r\\nOr fly through the windows on a gust of hot wind  \\r\\nHe didn't sprout wings  \\r\\nAnd he sure wasn't playin' no harp  \\r\\nAs low as he was, I couldn't see him  \\r\\nSlitherin' around in the dark  \\r\\nHe must've crawled through  \\r\\nA little bitty crack in her heart  \\r\\n  \\r\\nAs low as he was, I couldn't see him  \\r\\nSlitherin' around in the dark  \\r\\nHe must've crawled through  \\r\\nA little bitty crack in her heart  \\r\\nLord, he must've craweled through  \\r\\nA little bitty crack in her heart\\r\\n\\r\\n</td>\n",
       "    </tr>\n",
       "    <tr>\n",
       "      <th>496</th>\n",
       "      <td>Guided By Voices</td>\n",
       "      <td>Land Of Danger</td>\n",
       "      <td>Oh, baby -- this is the land of danger (each and every home a battlefield)  \\r\\nOh, baby -- this is the throat of a stranger (searching for the blood  \\r\\nThat's now congealed)  \\r\\nOh, baby -- this is a thick muddy mystery (tearing at the pages of our past)  \\r\\nOh, baby -- this is the straight path of history (human motion -- land and  \\r\\nOcean)  \\r\\nTry to run, try to hide  \\r\\nIt's been a long, long, long, long long, long [long] time  \\r\\n[It's been a long, long, long, long, long time]  \\r\\nOh, baby -- this is the fresh flesh of anger (calling out for action in the  \\r\\nStreets)  \\r\\nOh, baby -- this is a slow running canker (opened up by victories and defeats)  \\r\\nOh, baby -- this is the night of the dancer (dancing on a time bomb in my\\r\\nhead)  \\r\\nOh, baby -- this is the ultimate cancer (human notion -- fear in motion)  \\r\\nTry to run, try to hide  \\r\\nIt's been a long, long, long, long long, long [long] time  \\r\\n[It's been a long, long, long, long, long time]  \\r\\n[Don't tell me everything's gonna work out anymore  \\r\\nDon't tell me everything's gonna work out anymore]  \\r\\n[Of danger, of danger, of danger, of danger]  \\r\\n[Don't tell me everything's gonna work out]  \\r\\n\\r\\n</td>\n",
       "    </tr>\n",
       "    <tr>\n",
       "      <th>497</th>\n",
       "      <td>Lenny Kravitz</td>\n",
       "      <td>God Save Us All</td>\n",
       "      <td>We need a leader  \\r\\nWe can't seem to help ourselves  \\r\\nFighting and lying  \\r\\nWe can't seem to let it go  \\r\\nWe live each day  \\r\\nOn a small piece of borrowed time  \\r\\nWhy aren't we trying  \\r\\nTo enjoy this crazy ride  \\r\\nWhat are we gonna do about it ?  \\r\\n  \\r\\nGod save us all  \\r\\nGod save us all  \\r\\nGod save us all  \\r\\nIf we really try  \\r\\nMaybe we can make it  \\r\\n  \\r\\nWe need a teacher  \\r\\nWe must learn to see the light  \\r\\nLet's get together  \\r\\nThis world needs us to do right  \\r\\nThere's too much poverty, sickness  \\r\\nThere's pain and strife  \\r\\nWhy aren't we trying  \\r\\nTo improve this thing called life  \\r\\nWhat are we gonna do about it ?  \\r\\n  \\r\\nGod save us all  \\r\\nGod save us all  \\r\\nGod save us all  \\r\\nIf we really try  \\r\\nMaybe we can make it\\r\\n\\r\\n</td>\n",
       "    </tr>\n",
       "    <tr>\n",
       "      <th>498</th>\n",
       "      <td>Grand Funk Railroad</td>\n",
       "      <td>Hooked On Love</td>\n",
       "      <td>Well, did you ever have something, you want the whole wide world to know\\r\\nabout?  \\r\\nIt's that something I must tell you, that you just can't live without.  \\r\\nTen times your fingers, and double your toes,  \\r\\nThat's how much I love you and how much it shows.  \\r\\n  \\r\\nCHORUS  \\r\\nYou know that I am ... hooked on love.  \\r\\nI'll tell you what I am ... hooked on love.  \\r\\nBelieve me when I say it ... hooked on love.  \\r\\nHooked on love, ohhhh ...  \\r\\n  \\r\\nMy brothers and sisters, hear what I say.  \\r\\nI'm gonna' love you, to my dying day.  \\r\\nWhen I tell you that I love you, well, at least I tried.  \\r\\nI want you to believe me, this ain't no lie.  \\r\\n  \\r\\nCHORUS  \\r\\n  \\r\\nSatisfy my need in life, now, let me hear you say.  \\r\\nYou'll be lovin' me alright, until your dyin' day.  \\r\\nJust say it a little bit louder now, I'm startin' to get in your groove, yeah.  \\r\\nYou've got nothing to worry about, your love is on the move.  \\r\\nI hope some day the light of love shines bright upon your face.  \\r\\nI don't care who you are, I love the human race.  \\r\\n  \\r\\nSatisfy my need in life, now, let me hear you say.  \\r\\nYou'll be lovin' me alright, until your dyin' day.  \\r\\nJust say it a little bit louder now, I'm startin' to get in your groove, yeah  \\r\\nYou've got nothing to worry about, your love is on the move.  \\r\\nI hope some day the light of love shines bright upon your face.  \\r\\nI don't care who you are, I love the human race.  \\r\\n  \\r\\nCHORUS (with variations)  \\r\\n  \\r\\nCHORUS (with variations)  \\r\\n  \\r\\nCHORUS (with variations)  \\r\\n  \\r\\nCHORUS (with variations)\\r\\n\\r\\n</td>\n",
       "    </tr>\n",
       "    <tr>\n",
       "      <th>499</th>\n",
       "      <td>Gordon Lightfoot</td>\n",
       "      <td>If There's A Reason</td>\n",
       "      <td>If you should need me deep in the night  \\r\\nMy arms around you in shades of twilight  \\r\\nIf there's a reason for livin' without me  \\r\\nJust let me know and I'll move on  \\r\\n  \\r\\nDown to the station with the big wheels burnin'  \\r\\nGonna get my ticket to play out that role which I've been given  \\r\\n  \\r\\nHome is where the heart is  \\r\\nBut at times a good home must be broken  \\r\\nThe wine has grown bitter  \\r\\nFrom the harsh words we have spoken  \\r\\n  \\r\\nIf there's a chance for someone else  \\r\\nTo make you feel life is worth livin'  \\r\\nGive it a try oh lady  \\r\\nJust let me know and I'll move on  \\r\\n  \\r\\nHome is where the heart is  \\r\\nBut at times a good home must be broken  \\r\\nThe wine has grown bitter  \\r\\nFrom the harsh words we have spoken  \\r\\n  \\r\\nIf you should need me deep in the night  \\r\\nAt shades of twilight  \\r\\nIf there's a reason for livin' without me  \\r\\nJust let me know and I'll go on livin'\\r\\n\\r\\n</td>\n",
       "    </tr>\n",
       "  </tbody>\n",
       "</table>\n",
       "<p>500 rows × 3 columns</p>\n",
       "</div>"
      ],
      "text/plain": [
       "                  artist                               song  \\\n",
       "0           Dire Straits                          Why Worry   \n",
       "1          Reba Mcentire                      One Thin Dime   \n",
       "2             The Script                  Fall For Anything   \n",
       "3                  Sting                The Wind Cries Mary   \n",
       "4          Joni Mitchell                             Amelia   \n",
       "..                   ...                                ...   \n",
       "495         Randy Travis  A Little Bitty Crack In Her Heart   \n",
       "496     Guided By Voices                     Land Of Danger   \n",
       "497        Lenny Kravitz                    God Save Us All   \n",
       "498  Grand Funk Railroad                     Hooked On Love   \n",
       "499     Gordon Lightfoot                If There's A Reason   \n",
       "\n",
       "                                                                                                                                                                                                                                                                                                                                                                                                                                                                                                                                                                                                                                                                                                                                                                                                                                                                                                                                                                                                                                                                                                                                                                                                                                                                                                                                                                                                                                                                                                                                                                                                                                                                                                                                                                                                                                                                                                                                                                                                                                                                                                                                                                                                                                                                                                                                                                                                                             text  \n",
       "0                                                                                                                                                                                                                                                                                                                                                                                                                                                                                                                                                                                                                                                                                                                                                                                                                                                                                                                                                                                                                                                                                                                                                                                                                                                                                                                                                                                                                                                                                               Baby, I see this world has made you sad  \\r\\nSome people can be bad  \\r\\nThe things they do the things they say  \\r\\n  \\r\\nBut baby, I'll wipe away those bitter tears  \\r\\nI'll chase away those restless fears  \\r\\nThat turn your blue skies into gray  \\r\\n  \\r\\nWhy worry  \\r\\nThere should be laughter after pain  \\r\\nThere should be sunshine after rain  \\r\\nThese things have always been the same  \\r\\nSo why worry now  \\r\\nWhy worry now  \\r\\n  \\r\\nBaby, when I get down I turn to you  \\r\\nAnd you make sense of what I do  \\r\\nAnd all the isn't hard is the same  \\r\\n  \\r\\nBut baby, just when this world seems mean and cold  \\r\\nOur love comes shinning red and gold  \\r\\nAnd all the rest is by the way  \\r\\n  \\r\\nWhy worry  \\r\\nThere should be laughter after pain  \\r\\nThere should be sunshine after rain  \\r\\nThese things have always been the same  \\r\\nSo why worry now  \\r\\nWhy worry now\\r\\n\\r\\n  \n",
       "1                                                                                                                                                                                                                                                                                                                                                                                                                                                                                                                                                                                                                                                                                                                                                                                                                                                                                                                                                                                                                                                                                                                                                                                                                                                                                                                                                                  Your mind's made up  \\r\\nYou're gonna leave  \\r\\nNothing I can say will stop you so it seems  \\r\\nBut before you up and go  \\r\\nThere's just something you should know  \\r\\nWhen you find that I'm the one you still need  \\r\\n  \\r\\n[Chorus]  \\r\\nOne thin dime  \\r\\nIs all it takes  \\r\\nWhen you need someone who cares  \\r\\nThese arms of mine  \\r\\nAre always open  \\r\\nOne thin dime is all you need  \\r\\nAnd I'll be there  \\r\\n  \\r\\nOh you're chasing rainbows and I understand  \\r\\nWhen you're through I'll take you back again  \\r\\nI'll be waiting patiently  \\r\\nFor when you come back to me  \\r\\nAin't nobody else can love you like I can  \\r\\n  \\r\\n[Chorus]  \\r\\n  \\r\\nYou know the number  \\r\\nI'm always home  \\r\\nSo honey just pick up and dial that telephone  \\r\\nWhen this world treats you unkind  \\r\\nGet your momma on the line  \\r\\nThere ain't no need for you to ever be alone  \\r\\n  \\r\\n[Chorus]  \\r\\n  \\r\\nThese arms of mine  \\r\\nOh they're always open  \\r\\nOne thin dime is all you need  \\r\\nAnd I'll be there\\r\\n\\r\\n  \n",
       "2    Don't that bring you down, down, down [Repeat: x4]  \\r\\n  \\r\\nDon't give yourself away  \\r\\nDon't live your life that way  \\r\\nOf course he's gonna say  \\r\\nAnything you want  \\r\\nHe'll leave quicker than he came  \\r\\nNow you've got yourself to blame  \\r\\nDon't put yourself back in the fire again  \\r\\n  \\r\\nIt's the same damn thing, you're so quick to believe  \\r\\nAnd do it over and over again  \\r\\nAnd its the same mistakes that I'm watching you make  \\r\\nAnd do it over and over again  \\r\\n  \\r\\nSo before they bring you down  \\r\\n(you gotta stand for something or you'll fall for anything)  \\r\\n'Til you fall for anything, 'til you fall for,  \\r\\nYou gotta stand for something or you'll fall for anything  \\r\\n('Til you fall for anything, 'til you fall for)  \\r\\n  \\r\\nDon't that bring you down, down, down (x4)  \\r\\n  \\r\\nOh  \\r\\nPlease don't be so naive  \\r\\nDon't wait 'til your heart bleeds  \\r\\nLove wasn't built for speed  \\r\\nListen to me girl  \\r\\nHe keeps fucking with your head, tryin' to get you into bed  \\r\\nAnd in the morning you'll just hate yourself  \\r\\n  \\r\\nIt's the same damn thing, you're so quick to believe  \\r\\nAnd do it over nd over again  \\r\\nAnd it's the same mistakes that I'm watching you make  \\r\\nAnd do it over and over and over again  \\r\\n  \\r\\nBefore they bring you down,  \\r\\n(you gotta stand for something or you'll fall for anything)  \\r\\n'Til you fall for anything, 'til you fall for  \\r\\nYou gotta stand for something or you'll fall for anything  \\r\\n('Til you for anything, 'til you fall for)  \\r\\n  \\r\\nDon't that bring you down, down, down [Repeat x4]  \\r\\n  \\r\\n[Repeat x3]  \\r\\nCan you give until there's nothing to give until  \\r\\nThere's nothing to give until there's nothing to give  \\r\\n  \\r\\nBefore they bring you down,  \\r\\n(you gotta stand for something or you'll fall for anything)  \\r\\n'Til you fall for anything, 'til you fall for.  \\r\\nYou gotta stand for something or you'll fall for anything  \\r\\n('Til you fall for anything, 'til you fall for)  \\r\\nYou gotta stand for something or you'll fall for anything  \\r\\n('Til you fall for anything, 'til you fall for)  \\r\\nYou gotta stand for something or you'll fall for anything  \\r\\n('Til you fall for anything)  \\r\\n  \\r\\nBefore they bring you down, down down  \\r\\nDon't that bring you down, down, down [Repeat x4]\\r\\n\\r\\n  \n",
       "3                                                                                                                                                                                                                                                                                                                                                                                                                                                                                                                                                                                                                                                                                                                                                                                                                                                                                                                                                                                                                                                                                                                                                                                                                                                                                                                                                                                                                                                                                                                                                                                    After all the jacks are in their boxes  \\r\\nAnd the clowns have all gone to bed  \\r\\nYou can hear happiness  \\r\\nStaggering on down street  \\r\\nFootprints dressed in red  \\r\\nAnd the wind whispers Mary  \\r\\n  \\r\\nA broom is drearily sweeping  \\r\\nUp the broken pieces of yesterday's life  \\r\\nSomewhere a Queen is weeping  \\r\\nSomewhere a King has no wife  \\r\\nAnd the wind it cries Mary  \\r\\n  \\r\\nThe traffic lights they turn blue tomorrow  \\r\\nAnd shine their emptiness down on my bed  \\r\\nThe tiny island sags downstream  \\r\\n'Cause the life they'd lived is dead  \\r\\nAnd the wind screams Mary  \\r\\n  \\r\\nWill the wind ever remember  \\r\\nThe names it has blown in the past  \\r\\nAnd with this crutch, its old age and its wisdom  \\r\\nIt whispers \"No, this will be the last\"  \\r\\nAnd the wind cries Mary\\r\\n\\r\\n  \n",
       "4                                                                                                                                                                                                                                                                                                                                                                                                                                                                                                                                                                                                                                                                                      I was driving across the burning desert  \\r\\nWhen I spotted six jet planes  \\r\\nLeaving six white vapor trails across the bleak terrain  \\r\\nIt was the hexagram of the heavens  \\r\\nit was the strings of my guitar  \\r\\nAmelia, it was just a false alarm  \\r\\n  \\r\\nThe drone of flying engines  \\r\\nIs a song so wild and blue  \\r\\nIt scrambles time and seasons if it gets through to you  \\r\\nThen your life becomes a travelogue  \\r\\nOf picture-post-card-charms  \\r\\nAmelia, it was just a false alarm  \\r\\n  \\r\\nPeople will tell you where they've gone  \\r\\nThey'll tell you where to go  \\r\\nBut till you get there yourself you never really know  \\r\\nWhere some have found their paradise  \\r\\nOthers just come to harm  \\r\\nOh Amelia, it was just a false alarm  \\r\\n  \\r\\nI wish that he was here tonight  \\r\\nIt's so hard to obey  \\r\\nHis sad request of me to kindly stay away  \\r\\nSo this is how I hide the hurt  \\r\\nAs the road leads cursed and charmed  \\r\\nI tell Amelia, it was just a false alarm  \\r\\n  \\r\\nA ghost of aviation  \\r\\nShe was swallowed by the sky  \\r\\nOr by the sea, like me she had a dream to fly  \\r\\nLike Icarus ascending  \\r\\nOn beautiful foolish arms  \\r\\nAmelia, it was just a false alarm  \\r\\n  \\r\\nMaybe I've never really loved  \\r\\nI guess that is the truth  \\r\\nI've spent my whole life in clouds at icy altitude  \\r\\nAnd looking down on everything  \\r\\nI crashed into his arms  \\r\\nAmelia, it was just a false alarm  \\r\\n  \\r\\nI pulled into the Cactus Tree Motel  \\r\\nTo shower off the dust  \\r\\nAnd I slept on the strange pillows of my wanderlust  \\r\\nI dreamed of 747's  \\r\\nOver geometric farms  \\r\\nDreams, Amelia, dreams and false alarms\\r\\n\\r\\n  \n",
       "..                                                                                                                                                                                                                                                                                                                                                                                                                                                                                                                                                                                                                                                                                                                                                                                                                                                                                                                                                                                                                                                                                                                                                                                                                                                                                                                                                                                                                                                                                                                                                                                                                                                                                                                                                                                                                                                                                                                                                                                                                                                                                                                                                                                                                                                                                                                                                                                                                            ...  \n",
       "495                                                                                                                                                                                                                                                                                                                                                                                                                                                                                                                                                                                                                                                                                                                                                                                                         Shattered inside and scattered around  \\r\\nWere pieces of her broken heart  \\r\\nI gathered her up, the pieces I found  \\r\\nI put her back together like a busted guitar  \\r\\nBut some glue holds and some glue don't In spite of everything I tried  \\r\\nSomebody's stole my darlin'  \\r\\nRight before my very eyes  \\r\\n  \\r\\nHe didn't walk, talk or push his way in  \\r\\nOr fly through the windows on a gust of hot wind  \\r\\nHe didn't sprout wings  \\r\\nAnd he sure wasn't playin' no harp  \\r\\nAs low as he was, I couldn't see him  \\r\\nSlitherin' around in the dark  \\r\\nHe must've crawled through  \\r\\nA little bitty crack in her heart  \\r\\n  \\r\\nCopin' with hone and hoping i'm wrong  \\r\\nBut I sure see a definite change  \\r\\nThere's look in her eyes that's sayin' goodbye  \\r\\nAnd her snuggle when I hold her don't feel the same  \\r\\nThe way her heart bests for that sneaky thief  \\r\\nYou would picture him dark and tall  \\r\\nBut the feller that stole my darlin'  \\r\\nLord, he'd have to be very small  \\r\\n  \\r\\nHe didn't walk, talk or push his way in  \\r\\nOr fly through the windows on a gust of hot wind  \\r\\nHe didn't sprout wings  \\r\\nAnd he sure wasn't playin' no harp  \\r\\nAs low as he was, I couldn't see him  \\r\\nSlitherin' around in the dark  \\r\\nHe must've crawled through  \\r\\nA little bitty crack in her heart  \\r\\n  \\r\\nAs low as he was, I couldn't see him  \\r\\nSlitherin' around in the dark  \\r\\nHe must've crawled through  \\r\\nA little bitty crack in her heart  \\r\\nLord, he must've craweled through  \\r\\nA little bitty crack in her heart\\r\\n\\r\\n  \n",
       "496                                                                                                                                                                                                                                                                                                                                                                                                                                                                                                                                                                                                                                                                                                                                                                                                                                                                                                                                                                                                                                                                                                                                                                        Oh, baby -- this is the land of danger (each and every home a battlefield)  \\r\\nOh, baby -- this is the throat of a stranger (searching for the blood  \\r\\nThat's now congealed)  \\r\\nOh, baby -- this is a thick muddy mystery (tearing at the pages of our past)  \\r\\nOh, baby -- this is the straight path of history (human motion -- land and  \\r\\nOcean)  \\r\\nTry to run, try to hide  \\r\\nIt's been a long, long, long, long long, long [long] time  \\r\\n[It's been a long, long, long, long, long time]  \\r\\nOh, baby -- this is the fresh flesh of anger (calling out for action in the  \\r\\nStreets)  \\r\\nOh, baby -- this is a slow running canker (opened up by victories and defeats)  \\r\\nOh, baby -- this is the night of the dancer (dancing on a time bomb in my\\r\\nhead)  \\r\\nOh, baby -- this is the ultimate cancer (human notion -- fear in motion)  \\r\\nTry to run, try to hide  \\r\\nIt's been a long, long, long, long long, long [long] time  \\r\\n[It's been a long, long, long, long, long time]  \\r\\n[Don't tell me everything's gonna work out anymore  \\r\\nDon't tell me everything's gonna work out anymore]  \\r\\n[Of danger, of danger, of danger, of danger]  \\r\\n[Don't tell me everything's gonna work out]  \\r\\n\\r\\n  \n",
       "497                                                                                                                                                                                                                                                                                                                                                                                                                                                                                                                                                                                                                                                                                                                                                                                                                                                                                                                                                                                                                                                                                                                                                                                                                                                                                                                                                                                                                                                                                                                                                                                            We need a leader  \\r\\nWe can't seem to help ourselves  \\r\\nFighting and lying  \\r\\nWe can't seem to let it go  \\r\\nWe live each day  \\r\\nOn a small piece of borrowed time  \\r\\nWhy aren't we trying  \\r\\nTo enjoy this crazy ride  \\r\\nWhat are we gonna do about it ?  \\r\\n  \\r\\nGod save us all  \\r\\nGod save us all  \\r\\nGod save us all  \\r\\nIf we really try  \\r\\nMaybe we can make it  \\r\\n  \\r\\nWe need a teacher  \\r\\nWe must learn to see the light  \\r\\nLet's get together  \\r\\nThis world needs us to do right  \\r\\nThere's too much poverty, sickness  \\r\\nThere's pain and strife  \\r\\nWhy aren't we trying  \\r\\nTo improve this thing called life  \\r\\nWhat are we gonna do about it ?  \\r\\n  \\r\\nGod save us all  \\r\\nGod save us all  \\r\\nGod save us all  \\r\\nIf we really try  \\r\\nMaybe we can make it\\r\\n\\r\\n  \n",
       "498                                                                                                                                                                                                                                                                                                                                                                                                                                                                                                                                                                                                                                                                                                                                               Well, did you ever have something, you want the whole wide world to know\\r\\nabout?  \\r\\nIt's that something I must tell you, that you just can't live without.  \\r\\nTen times your fingers, and double your toes,  \\r\\nThat's how much I love you and how much it shows.  \\r\\n  \\r\\nCHORUS  \\r\\nYou know that I am ... hooked on love.  \\r\\nI'll tell you what I am ... hooked on love.  \\r\\nBelieve me when I say it ... hooked on love.  \\r\\nHooked on love, ohhhh ...  \\r\\n  \\r\\nMy brothers and sisters, hear what I say.  \\r\\nI'm gonna' love you, to my dying day.  \\r\\nWhen I tell you that I love you, well, at least I tried.  \\r\\nI want you to believe me, this ain't no lie.  \\r\\n  \\r\\nCHORUS  \\r\\n  \\r\\nSatisfy my need in life, now, let me hear you say.  \\r\\nYou'll be lovin' me alright, until your dyin' day.  \\r\\nJust say it a little bit louder now, I'm startin' to get in your groove, yeah.  \\r\\nYou've got nothing to worry about, your love is on the move.  \\r\\nI hope some day the light of love shines bright upon your face.  \\r\\nI don't care who you are, I love the human race.  \\r\\n  \\r\\nSatisfy my need in life, now, let me hear you say.  \\r\\nYou'll be lovin' me alright, until your dyin' day.  \\r\\nJust say it a little bit louder now, I'm startin' to get in your groove, yeah  \\r\\nYou've got nothing to worry about, your love is on the move.  \\r\\nI hope some day the light of love shines bright upon your face.  \\r\\nI don't care who you are, I love the human race.  \\r\\n  \\r\\nCHORUS (with variations)  \\r\\n  \\r\\nCHORUS (with variations)  \\r\\n  \\r\\nCHORUS (with variations)  \\r\\n  \\r\\nCHORUS (with variations)\\r\\n\\r\\n  \n",
       "499                                                                                                                                                                                                                                                                                                                                                                                                                                                                                                                                                                                                                                                                                                                                                                                                                                                                                                                                                                                                                                                                                                                                                                                                                                                                                                                                                                                                                                               If you should need me deep in the night  \\r\\nMy arms around you in shades of twilight  \\r\\nIf there's a reason for livin' without me  \\r\\nJust let me know and I'll move on  \\r\\n  \\r\\nDown to the station with the big wheels burnin'  \\r\\nGonna get my ticket to play out that role which I've been given  \\r\\n  \\r\\nHome is where the heart is  \\r\\nBut at times a good home must be broken  \\r\\nThe wine has grown bitter  \\r\\nFrom the harsh words we have spoken  \\r\\n  \\r\\nIf there's a chance for someone else  \\r\\nTo make you feel life is worth livin'  \\r\\nGive it a try oh lady  \\r\\nJust let me know and I'll move on  \\r\\n  \\r\\nHome is where the heart is  \\r\\nBut at times a good home must be broken  \\r\\nThe wine has grown bitter  \\r\\nFrom the harsh words we have spoken  \\r\\n  \\r\\nIf you should need me deep in the night  \\r\\nAt shades of twilight  \\r\\nIf there's a reason for livin' without me  \\r\\nJust let me know and I'll go on livin'\\r\\n\\r\\n  \n",
       "\n",
       "[500 rows x 3 columns]"
      ]
     },
     "execution_count": 211,
     "metadata": {},
     "output_type": "execute_result"
    }
   ],
   "source": [
    "data"
   ]
  },
  {
   "cell_type": "code",
   "execution_count": 212,
   "id": "2d1b47fc-a807-4429-8231-8ed8eb0adb29",
   "metadata": {},
   "outputs": [
    {
     "data": {
      "text/plain": [
       "\"Baby, I see this world has made you sad  \\r\\nSome people can be bad  \\r\\nThe things they do the things they say  \\r\\n  \\r\\nBut baby, I'll wipe away those bitter tears  \\r\\nI'll chase away those restless fears  \\r\\nThat turn your blue skies into gray  \\r\\n  \\r\\nWhy worry  \\r\\nThere should be laughter after pain  \\r\\nThere should be sunshine after rain  \\r\\nThese things have always been the same  \\r\\nSo why worry now  \\r\\nWhy worry now  \\r\\n  \\r\\nBaby, when I get down I turn to you  \\r\\nAnd you make sense of what I do  \\r\\nAnd all the isn't hard is the same  \\r\\n  \\r\\nBut baby, just when this world seems mean and cold  \\r\\nOur love comes shinning red and gold  \\r\\nAnd all the rest is by the way  \\r\\n  \\r\\nWhy worry  \\r\\nThere should be laughter after pain  \\r\\nThere should be sunshine after rain  \\r\\nThese things have always been the same  \\r\\nSo why worry now  \\r\\nWhy worry now\\r\\n\\r\\n\""
      ]
     },
     "execution_count": 212,
     "metadata": {},
     "output_type": "execute_result"
    }
   ],
   "source": [
    "data[\"text\"][0]"
   ]
  },
  {
   "cell_type": "code",
   "execution_count": 213,
   "id": "61d4dc36-a723-47be-9c6c-35ae5337c9ba",
   "metadata": {},
   "outputs": [
    {
     "data": {
      "text/html": [
       "<div>\n",
       "<style scoped>\n",
       "    .dataframe tbody tr th:only-of-type {\n",
       "        vertical-align: middle;\n",
       "    }\n",
       "\n",
       "    .dataframe tbody tr th {\n",
       "        vertical-align: top;\n",
       "    }\n",
       "\n",
       "    .dataframe thead th {\n",
       "        text-align: right;\n",
       "    }\n",
       "</style>\n",
       "<table border=\"1\" class=\"dataframe\">\n",
       "  <thead>\n",
       "    <tr style=\"text-align: right;\">\n",
       "      <th></th>\n",
       "      <th>artist</th>\n",
       "      <th>song</th>\n",
       "      <th>text</th>\n",
       "    </tr>\n",
       "  </thead>\n",
       "  <tbody>\n",
       "    <tr>\n",
       "      <th>0</th>\n",
       "      <td>Dire Straits</td>\n",
       "      <td>Why Worry</td>\n",
       "      <td>Baby, I see this world has made you sad  \\r\\nSome people can be bad  \\r\\nThe things they do the things they say  \\r\\n  \\r\\nBut baby, I'll wipe away those bitter tears  \\r\\nI'll chase away those restless fears  \\r\\nThat turn your blue skies into gray  \\r\\n  \\r\\nWhy worry  \\r\\nThere should be laughter after pain  \\r\\nThere should be sunshine after rain  \\r\\nThese things have always been the same  \\r\\nSo why worry now  \\r\\nWhy worry now  \\r\\n  \\r\\nBaby, when I get down I turn to you  \\r\\nAnd you make sense of what I do  \\r\\nAnd all the isn't hard is the same  \\r\\n  \\r\\nBut baby, just when this world seems mean and cold  \\r\\nOur love comes shinning red and gold  \\r\\nAnd all the rest is by the way  \\r\\n  \\r\\nWhy worry  \\r\\nThere should be laughter after pain  \\r\\nThere should be sunshine after rain  \\r\\nThese things have always been the same  \\r\\nSo why worry now  \\r\\nWhy worry now\\r\\n\\r\\n</td>\n",
       "    </tr>\n",
       "    <tr>\n",
       "      <th>1</th>\n",
       "      <td>Reba Mcentire</td>\n",
       "      <td>One Thin Dime</td>\n",
       "      <td>Your mind's made up  \\r\\nYou're gonna leave  \\r\\nNothing I can say will stop you so it seems  \\r\\nBut before you up and go  \\r\\nThere's just something you should know  \\r\\nWhen you find that I'm the one you still need  \\r\\n  \\r\\n[Chorus]  \\r\\nOne thin dime  \\r\\nIs all it takes  \\r\\nWhen you need someone who cares  \\r\\nThese arms of mine  \\r\\nAre always open  \\r\\nOne thin dime is all you need  \\r\\nAnd I'll be there  \\r\\n  \\r\\nOh you're chasing rainbows and I understand  \\r\\nWhen you're through I'll take you back again  \\r\\nI'll be waiting patiently  \\r\\nFor when you come back to me  \\r\\nAin't nobody else can love you like I can  \\r\\n  \\r\\n[Chorus]  \\r\\n  \\r\\nYou know the number  \\r\\nI'm always home  \\r\\nSo honey just pick up and dial that telephone  \\r\\nWhen this world treats you unkind  \\r\\nGet your momma on the line  \\r\\nThere ain't no need for you to ever be alone  \\r\\n  \\r\\n[Chorus]  \\r\\n  \\r\\nThese arms of mine  \\r\\nOh they're always open  \\r\\nOne thin dime is all you need  \\r\\nAnd I'll be there\\r\\n\\r\\n</td>\n",
       "    </tr>\n",
       "    <tr>\n",
       "      <th>2</th>\n",
       "      <td>The Script</td>\n",
       "      <td>Fall For Anything</td>\n",
       "      <td>Don't that bring you down, down, down [Repeat: x4]  \\r\\n  \\r\\nDon't give yourself away  \\r\\nDon't live your life that way  \\r\\nOf course he's gonna say  \\r\\nAnything you want  \\r\\nHe'll leave quicker than he came  \\r\\nNow you've got yourself to blame  \\r\\nDon't put yourself back in the fire again  \\r\\n  \\r\\nIt's the same damn thing, you're so quick to believe  \\r\\nAnd do it over and over again  \\r\\nAnd its the same mistakes that I'm watching you make  \\r\\nAnd do it over and over again  \\r\\n  \\r\\nSo before they bring you down  \\r\\n(you gotta stand for something or you'll fall for anything)  \\r\\n'Til you fall for anything, 'til you fall for,  \\r\\nYou gotta stand for something or you'll fall for anything  \\r\\n('Til you fall for anything, 'til you fall for)  \\r\\n  \\r\\nDon't that bring you down, down, down (x4)  \\r\\n  \\r\\nOh  \\r\\nPlease don't be so naive  \\r\\nDon't wait 'til your heart bleeds  \\r\\nLove wasn't built for speed  \\r\\nListen to me girl  \\r\\nHe keeps fucking with your head, tryin' to get you into bed  \\r\\nAnd in the morning you'll just hate yourself  \\r\\n  \\r\\nIt's the same damn thing, you're so quick to believe  \\r\\nAnd do it over nd over again  \\r\\nAnd it's the same mistakes that I'm watching you make  \\r\\nAnd do it over and over and over again  \\r\\n  \\r\\nBefore they bring you down,  \\r\\n(you gotta stand for something or you'll fall for anything)  \\r\\n'Til you fall for anything, 'til you fall for  \\r\\nYou gotta stand for something or you'll fall for anything  \\r\\n('Til you for anything, 'til you fall for)  \\r\\n  \\r\\nDon't that bring you down, down, down [Repeat x4]  \\r\\n  \\r\\n[Repeat x3]  \\r\\nCan you give until there's nothing to give until  \\r\\nThere's nothing to give until there's nothing to give  \\r\\n  \\r\\nBefore they bring you down,  \\r\\n(you gotta stand for something or you'll fall for anything)  \\r\\n'Til you fall for anything, 'til you fall for.  \\r\\nYou gotta stand for something or you'll fall for anything  \\r\\n('Til you fall for anything, 'til you fall for)  \\r\\nYou gotta stand for something or you'll fall for anything  \\r\\n('Til you fall for anything, 'til you fall for)  \\r\\nYou gotta stand for something or you'll fall for anything  \\r\\n('Til you fall for anything)  \\r\\n  \\r\\nBefore they bring you down, down down  \\r\\nDon't that bring you down, down, down [Repeat x4]\\r\\n\\r\\n</td>\n",
       "    </tr>\n",
       "    <tr>\n",
       "      <th>3</th>\n",
       "      <td>Sting</td>\n",
       "      <td>The Wind Cries Mary</td>\n",
       "      <td>After all the jacks are in their boxes  \\r\\nAnd the clowns have all gone to bed  \\r\\nYou can hear happiness  \\r\\nStaggering on down street  \\r\\nFootprints dressed in red  \\r\\nAnd the wind whispers Mary  \\r\\n  \\r\\nA broom is drearily sweeping  \\r\\nUp the broken pieces of yesterday's life  \\r\\nSomewhere a Queen is weeping  \\r\\nSomewhere a King has no wife  \\r\\nAnd the wind it cries Mary  \\r\\n  \\r\\nThe traffic lights they turn blue tomorrow  \\r\\nAnd shine their emptiness down on my bed  \\r\\nThe tiny island sags downstream  \\r\\n'Cause the life they'd lived is dead  \\r\\nAnd the wind screams Mary  \\r\\n  \\r\\nWill the wind ever remember  \\r\\nThe names it has blown in the past  \\r\\nAnd with this crutch, its old age and its wisdom  \\r\\nIt whispers \"No, this will be the last\"  \\r\\nAnd the wind cries Mary\\r\\n\\r\\n</td>\n",
       "    </tr>\n",
       "    <tr>\n",
       "      <th>4</th>\n",
       "      <td>Joni Mitchell</td>\n",
       "      <td>Amelia</td>\n",
       "      <td>I was driving across the burning desert  \\r\\nWhen I spotted six jet planes  \\r\\nLeaving six white vapor trails across the bleak terrain  \\r\\nIt was the hexagram of the heavens  \\r\\nit was the strings of my guitar  \\r\\nAmelia, it was just a false alarm  \\r\\n  \\r\\nThe drone of flying engines  \\r\\nIs a song so wild and blue  \\r\\nIt scrambles time and seasons if it gets through to you  \\r\\nThen your life becomes a travelogue  \\r\\nOf picture-post-card-charms  \\r\\nAmelia, it was just a false alarm  \\r\\n  \\r\\nPeople will tell you where they've gone  \\r\\nThey'll tell you where to go  \\r\\nBut till you get there yourself you never really know  \\r\\nWhere some have found their paradise  \\r\\nOthers just come to harm  \\r\\nOh Amelia, it was just a false alarm  \\r\\n  \\r\\nI wish that he was here tonight  \\r\\nIt's so hard to obey  \\r\\nHis sad request of me to kindly stay away  \\r\\nSo this is how I hide the hurt  \\r\\nAs the road leads cursed and charmed  \\r\\nI tell Amelia, it was just a false alarm  \\r\\n  \\r\\nA ghost of aviation  \\r\\nShe was swallowed by the sky  \\r\\nOr by the sea, like me she had a dream to fly  \\r\\nLike Icarus ascending  \\r\\nOn beautiful foolish arms  \\r\\nAmelia, it was just a false alarm  \\r\\n  \\r\\nMaybe I've never really loved  \\r\\nI guess that is the truth  \\r\\nI've spent my whole life in clouds at icy altitude  \\r\\nAnd looking down on everything  \\r\\nI crashed into his arms  \\r\\nAmelia, it was just a false alarm  \\r\\n  \\r\\nI pulled into the Cactus Tree Motel  \\r\\nTo shower off the dust  \\r\\nAnd I slept on the strange pillows of my wanderlust  \\r\\nI dreamed of 747's  \\r\\nOver geometric farms  \\r\\nDreams, Amelia, dreams and false alarms\\r\\n\\r\\n</td>\n",
       "    </tr>\n",
       "    <tr>\n",
       "      <th>...</th>\n",
       "      <td>...</td>\n",
       "      <td>...</td>\n",
       "      <td>...</td>\n",
       "    </tr>\n",
       "    <tr>\n",
       "      <th>495</th>\n",
       "      <td>Randy Travis</td>\n",
       "      <td>A Little Bitty Crack In Her Heart</td>\n",
       "      <td>Shattered inside and scattered around  \\r\\nWere pieces of her broken heart  \\r\\nI gathered her up, the pieces I found  \\r\\nI put her back together like a busted guitar  \\r\\nBut some glue holds and some glue don't In spite of everything I tried  \\r\\nSomebody's stole my darlin'  \\r\\nRight before my very eyes  \\r\\n  \\r\\nHe didn't walk, talk or push his way in  \\r\\nOr fly through the windows on a gust of hot wind  \\r\\nHe didn't sprout wings  \\r\\nAnd he sure wasn't playin' no harp  \\r\\nAs low as he was, I couldn't see him  \\r\\nSlitherin' around in the dark  \\r\\nHe must've crawled through  \\r\\nA little bitty crack in her heart  \\r\\n  \\r\\nCopin' with hone and hoping i'm wrong  \\r\\nBut I sure see a definite change  \\r\\nThere's look in her eyes that's sayin' goodbye  \\r\\nAnd her snuggle when I hold her don't feel the same  \\r\\nThe way her heart bests for that sneaky thief  \\r\\nYou would picture him dark and tall  \\r\\nBut the feller that stole my darlin'  \\r\\nLord, he'd have to be very small  \\r\\n  \\r\\nHe didn't walk, talk or push his way in  \\r\\nOr fly through the windows on a gust of hot wind  \\r\\nHe didn't sprout wings  \\r\\nAnd he sure wasn't playin' no harp  \\r\\nAs low as he was, I couldn't see him  \\r\\nSlitherin' around in the dark  \\r\\nHe must've crawled through  \\r\\nA little bitty crack in her heart  \\r\\n  \\r\\nAs low as he was, I couldn't see him  \\r\\nSlitherin' around in the dark  \\r\\nHe must've crawled through  \\r\\nA little bitty crack in her heart  \\r\\nLord, he must've craweled through  \\r\\nA little bitty crack in her heart\\r\\n\\r\\n</td>\n",
       "    </tr>\n",
       "    <tr>\n",
       "      <th>496</th>\n",
       "      <td>Guided By Voices</td>\n",
       "      <td>Land Of Danger</td>\n",
       "      <td>Oh, baby -- this is the land of danger (each and every home a battlefield)  \\r\\nOh, baby -- this is the throat of a stranger (searching for the blood  \\r\\nThat's now congealed)  \\r\\nOh, baby -- this is a thick muddy mystery (tearing at the pages of our past)  \\r\\nOh, baby -- this is the straight path of history (human motion -- land and  \\r\\nOcean)  \\r\\nTry to run, try to hide  \\r\\nIt's been a long, long, long, long long, long [long] time  \\r\\n[It's been a long, long, long, long, long time]  \\r\\nOh, baby -- this is the fresh flesh of anger (calling out for action in the  \\r\\nStreets)  \\r\\nOh, baby -- this is a slow running canker (opened up by victories and defeats)  \\r\\nOh, baby -- this is the night of the dancer (dancing on a time bomb in my\\r\\nhead)  \\r\\nOh, baby -- this is the ultimate cancer (human notion -- fear in motion)  \\r\\nTry to run, try to hide  \\r\\nIt's been a long, long, long, long long, long [long] time  \\r\\n[It's been a long, long, long, long, long time]  \\r\\n[Don't tell me everything's gonna work out anymore  \\r\\nDon't tell me everything's gonna work out anymore]  \\r\\n[Of danger, of danger, of danger, of danger]  \\r\\n[Don't tell me everything's gonna work out]  \\r\\n\\r\\n</td>\n",
       "    </tr>\n",
       "    <tr>\n",
       "      <th>497</th>\n",
       "      <td>Lenny Kravitz</td>\n",
       "      <td>God Save Us All</td>\n",
       "      <td>We need a leader  \\r\\nWe can't seem to help ourselves  \\r\\nFighting and lying  \\r\\nWe can't seem to let it go  \\r\\nWe live each day  \\r\\nOn a small piece of borrowed time  \\r\\nWhy aren't we trying  \\r\\nTo enjoy this crazy ride  \\r\\nWhat are we gonna do about it ?  \\r\\n  \\r\\nGod save us all  \\r\\nGod save us all  \\r\\nGod save us all  \\r\\nIf we really try  \\r\\nMaybe we can make it  \\r\\n  \\r\\nWe need a teacher  \\r\\nWe must learn to see the light  \\r\\nLet's get together  \\r\\nThis world needs us to do right  \\r\\nThere's too much poverty, sickness  \\r\\nThere's pain and strife  \\r\\nWhy aren't we trying  \\r\\nTo improve this thing called life  \\r\\nWhat are we gonna do about it ?  \\r\\n  \\r\\nGod save us all  \\r\\nGod save us all  \\r\\nGod save us all  \\r\\nIf we really try  \\r\\nMaybe we can make it\\r\\n\\r\\n</td>\n",
       "    </tr>\n",
       "    <tr>\n",
       "      <th>498</th>\n",
       "      <td>Grand Funk Railroad</td>\n",
       "      <td>Hooked On Love</td>\n",
       "      <td>Well, did you ever have something, you want the whole wide world to know\\r\\nabout?  \\r\\nIt's that something I must tell you, that you just can't live without.  \\r\\nTen times your fingers, and double your toes,  \\r\\nThat's how much I love you and how much it shows.  \\r\\n  \\r\\nCHORUS  \\r\\nYou know that I am ... hooked on love.  \\r\\nI'll tell you what I am ... hooked on love.  \\r\\nBelieve me when I say it ... hooked on love.  \\r\\nHooked on love, ohhhh ...  \\r\\n  \\r\\nMy brothers and sisters, hear what I say.  \\r\\nI'm gonna' love you, to my dying day.  \\r\\nWhen I tell you that I love you, well, at least I tried.  \\r\\nI want you to believe me, this ain't no lie.  \\r\\n  \\r\\nCHORUS  \\r\\n  \\r\\nSatisfy my need in life, now, let me hear you say.  \\r\\nYou'll be lovin' me alright, until your dyin' day.  \\r\\nJust say it a little bit louder now, I'm startin' to get in your groove, yeah.  \\r\\nYou've got nothing to worry about, your love is on the move.  \\r\\nI hope some day the light of love shines bright upon your face.  \\r\\nI don't care who you are, I love the human race.  \\r\\n  \\r\\nSatisfy my need in life, now, let me hear you say.  \\r\\nYou'll be lovin' me alright, until your dyin' day.  \\r\\nJust say it a little bit louder now, I'm startin' to get in your groove, yeah  \\r\\nYou've got nothing to worry about, your love is on the move.  \\r\\nI hope some day the light of love shines bright upon your face.  \\r\\nI don't care who you are, I love the human race.  \\r\\n  \\r\\nCHORUS (with variations)  \\r\\n  \\r\\nCHORUS (with variations)  \\r\\n  \\r\\nCHORUS (with variations)  \\r\\n  \\r\\nCHORUS (with variations)\\r\\n\\r\\n</td>\n",
       "    </tr>\n",
       "    <tr>\n",
       "      <th>499</th>\n",
       "      <td>Gordon Lightfoot</td>\n",
       "      <td>If There's A Reason</td>\n",
       "      <td>If you should need me deep in the night  \\r\\nMy arms around you in shades of twilight  \\r\\nIf there's a reason for livin' without me  \\r\\nJust let me know and I'll move on  \\r\\n  \\r\\nDown to the station with the big wheels burnin'  \\r\\nGonna get my ticket to play out that role which I've been given  \\r\\n  \\r\\nHome is where the heart is  \\r\\nBut at times a good home must be broken  \\r\\nThe wine has grown bitter  \\r\\nFrom the harsh words we have spoken  \\r\\n  \\r\\nIf there's a chance for someone else  \\r\\nTo make you feel life is worth livin'  \\r\\nGive it a try oh lady  \\r\\nJust let me know and I'll move on  \\r\\n  \\r\\nHome is where the heart is  \\r\\nBut at times a good home must be broken  \\r\\nThe wine has grown bitter  \\r\\nFrom the harsh words we have spoken  \\r\\n  \\r\\nIf you should need me deep in the night  \\r\\nAt shades of twilight  \\r\\nIf there's a reason for livin' without me  \\r\\nJust let me know and I'll go on livin'\\r\\n\\r\\n</td>\n",
       "    </tr>\n",
       "  </tbody>\n",
       "</table>\n",
       "<p>500 rows × 3 columns</p>\n",
       "</div>"
      ],
      "text/plain": [
       "                  artist                               song  \\\n",
       "0           Dire Straits                          Why Worry   \n",
       "1          Reba Mcentire                      One Thin Dime   \n",
       "2             The Script                  Fall For Anything   \n",
       "3                  Sting                The Wind Cries Mary   \n",
       "4          Joni Mitchell                             Amelia   \n",
       "..                   ...                                ...   \n",
       "495         Randy Travis  A Little Bitty Crack In Her Heart   \n",
       "496     Guided By Voices                     Land Of Danger   \n",
       "497        Lenny Kravitz                    God Save Us All   \n",
       "498  Grand Funk Railroad                     Hooked On Love   \n",
       "499     Gordon Lightfoot                If There's A Reason   \n",
       "\n",
       "                                                                                                                                                                                                                                                                                                                                                                                                                                                                                                                                                                                                                                                                                                                                                                                                                                                                                                                                                                                                                                                                                                                                                                                                                                                                                                                                                                                                                                                                                                                                                                                                                                                                                                                                                                                                                                                                                                                                                                                                                                                                                                                                                                                                                                                                                                                                                                                                                             text  \n",
       "0                                                                                                                                                                                                                                                                                                                                                                                                                                                                                                                                                                                                                                                                                                                                                                                                                                                                                                                                                                                                                                                                                                                                                                                                                                                                                                                                                                                                                                                                                               Baby, I see this world has made you sad  \\r\\nSome people can be bad  \\r\\nThe things they do the things they say  \\r\\n  \\r\\nBut baby, I'll wipe away those bitter tears  \\r\\nI'll chase away those restless fears  \\r\\nThat turn your blue skies into gray  \\r\\n  \\r\\nWhy worry  \\r\\nThere should be laughter after pain  \\r\\nThere should be sunshine after rain  \\r\\nThese things have always been the same  \\r\\nSo why worry now  \\r\\nWhy worry now  \\r\\n  \\r\\nBaby, when I get down I turn to you  \\r\\nAnd you make sense of what I do  \\r\\nAnd all the isn't hard is the same  \\r\\n  \\r\\nBut baby, just when this world seems mean and cold  \\r\\nOur love comes shinning red and gold  \\r\\nAnd all the rest is by the way  \\r\\n  \\r\\nWhy worry  \\r\\nThere should be laughter after pain  \\r\\nThere should be sunshine after rain  \\r\\nThese things have always been the same  \\r\\nSo why worry now  \\r\\nWhy worry now\\r\\n\\r\\n  \n",
       "1                                                                                                                                                                                                                                                                                                                                                                                                                                                                                                                                                                                                                                                                                                                                                                                                                                                                                                                                                                                                                                                                                                                                                                                                                                                                                                                                                                  Your mind's made up  \\r\\nYou're gonna leave  \\r\\nNothing I can say will stop you so it seems  \\r\\nBut before you up and go  \\r\\nThere's just something you should know  \\r\\nWhen you find that I'm the one you still need  \\r\\n  \\r\\n[Chorus]  \\r\\nOne thin dime  \\r\\nIs all it takes  \\r\\nWhen you need someone who cares  \\r\\nThese arms of mine  \\r\\nAre always open  \\r\\nOne thin dime is all you need  \\r\\nAnd I'll be there  \\r\\n  \\r\\nOh you're chasing rainbows and I understand  \\r\\nWhen you're through I'll take you back again  \\r\\nI'll be waiting patiently  \\r\\nFor when you come back to me  \\r\\nAin't nobody else can love you like I can  \\r\\n  \\r\\n[Chorus]  \\r\\n  \\r\\nYou know the number  \\r\\nI'm always home  \\r\\nSo honey just pick up and dial that telephone  \\r\\nWhen this world treats you unkind  \\r\\nGet your momma on the line  \\r\\nThere ain't no need for you to ever be alone  \\r\\n  \\r\\n[Chorus]  \\r\\n  \\r\\nThese arms of mine  \\r\\nOh they're always open  \\r\\nOne thin dime is all you need  \\r\\nAnd I'll be there\\r\\n\\r\\n  \n",
       "2    Don't that bring you down, down, down [Repeat: x4]  \\r\\n  \\r\\nDon't give yourself away  \\r\\nDon't live your life that way  \\r\\nOf course he's gonna say  \\r\\nAnything you want  \\r\\nHe'll leave quicker than he came  \\r\\nNow you've got yourself to blame  \\r\\nDon't put yourself back in the fire again  \\r\\n  \\r\\nIt's the same damn thing, you're so quick to believe  \\r\\nAnd do it over and over again  \\r\\nAnd its the same mistakes that I'm watching you make  \\r\\nAnd do it over and over again  \\r\\n  \\r\\nSo before they bring you down  \\r\\n(you gotta stand for something or you'll fall for anything)  \\r\\n'Til you fall for anything, 'til you fall for,  \\r\\nYou gotta stand for something or you'll fall for anything  \\r\\n('Til you fall for anything, 'til you fall for)  \\r\\n  \\r\\nDon't that bring you down, down, down (x4)  \\r\\n  \\r\\nOh  \\r\\nPlease don't be so naive  \\r\\nDon't wait 'til your heart bleeds  \\r\\nLove wasn't built for speed  \\r\\nListen to me girl  \\r\\nHe keeps fucking with your head, tryin' to get you into bed  \\r\\nAnd in the morning you'll just hate yourself  \\r\\n  \\r\\nIt's the same damn thing, you're so quick to believe  \\r\\nAnd do it over nd over again  \\r\\nAnd it's the same mistakes that I'm watching you make  \\r\\nAnd do it over and over and over again  \\r\\n  \\r\\nBefore they bring you down,  \\r\\n(you gotta stand for something or you'll fall for anything)  \\r\\n'Til you fall for anything, 'til you fall for  \\r\\nYou gotta stand for something or you'll fall for anything  \\r\\n('Til you for anything, 'til you fall for)  \\r\\n  \\r\\nDon't that bring you down, down, down [Repeat x4]  \\r\\n  \\r\\n[Repeat x3]  \\r\\nCan you give until there's nothing to give until  \\r\\nThere's nothing to give until there's nothing to give  \\r\\n  \\r\\nBefore they bring you down,  \\r\\n(you gotta stand for something or you'll fall for anything)  \\r\\n'Til you fall for anything, 'til you fall for.  \\r\\nYou gotta stand for something or you'll fall for anything  \\r\\n('Til you fall for anything, 'til you fall for)  \\r\\nYou gotta stand for something or you'll fall for anything  \\r\\n('Til you fall for anything, 'til you fall for)  \\r\\nYou gotta stand for something or you'll fall for anything  \\r\\n('Til you fall for anything)  \\r\\n  \\r\\nBefore they bring you down, down down  \\r\\nDon't that bring you down, down, down [Repeat x4]\\r\\n\\r\\n  \n",
       "3                                                                                                                                                                                                                                                                                                                                                                                                                                                                                                                                                                                                                                                                                                                                                                                                                                                                                                                                                                                                                                                                                                                                                                                                                                                                                                                                                                                                                                                                                                                                                                                    After all the jacks are in their boxes  \\r\\nAnd the clowns have all gone to bed  \\r\\nYou can hear happiness  \\r\\nStaggering on down street  \\r\\nFootprints dressed in red  \\r\\nAnd the wind whispers Mary  \\r\\n  \\r\\nA broom is drearily sweeping  \\r\\nUp the broken pieces of yesterday's life  \\r\\nSomewhere a Queen is weeping  \\r\\nSomewhere a King has no wife  \\r\\nAnd the wind it cries Mary  \\r\\n  \\r\\nThe traffic lights they turn blue tomorrow  \\r\\nAnd shine their emptiness down on my bed  \\r\\nThe tiny island sags downstream  \\r\\n'Cause the life they'd lived is dead  \\r\\nAnd the wind screams Mary  \\r\\n  \\r\\nWill the wind ever remember  \\r\\nThe names it has blown in the past  \\r\\nAnd with this crutch, its old age and its wisdom  \\r\\nIt whispers \"No, this will be the last\"  \\r\\nAnd the wind cries Mary\\r\\n\\r\\n  \n",
       "4                                                                                                                                                                                                                                                                                                                                                                                                                                                                                                                                                                                                                                                                                      I was driving across the burning desert  \\r\\nWhen I spotted six jet planes  \\r\\nLeaving six white vapor trails across the bleak terrain  \\r\\nIt was the hexagram of the heavens  \\r\\nit was the strings of my guitar  \\r\\nAmelia, it was just a false alarm  \\r\\n  \\r\\nThe drone of flying engines  \\r\\nIs a song so wild and blue  \\r\\nIt scrambles time and seasons if it gets through to you  \\r\\nThen your life becomes a travelogue  \\r\\nOf picture-post-card-charms  \\r\\nAmelia, it was just a false alarm  \\r\\n  \\r\\nPeople will tell you where they've gone  \\r\\nThey'll tell you where to go  \\r\\nBut till you get there yourself you never really know  \\r\\nWhere some have found their paradise  \\r\\nOthers just come to harm  \\r\\nOh Amelia, it was just a false alarm  \\r\\n  \\r\\nI wish that he was here tonight  \\r\\nIt's so hard to obey  \\r\\nHis sad request of me to kindly stay away  \\r\\nSo this is how I hide the hurt  \\r\\nAs the road leads cursed and charmed  \\r\\nI tell Amelia, it was just a false alarm  \\r\\n  \\r\\nA ghost of aviation  \\r\\nShe was swallowed by the sky  \\r\\nOr by the sea, like me she had a dream to fly  \\r\\nLike Icarus ascending  \\r\\nOn beautiful foolish arms  \\r\\nAmelia, it was just a false alarm  \\r\\n  \\r\\nMaybe I've never really loved  \\r\\nI guess that is the truth  \\r\\nI've spent my whole life in clouds at icy altitude  \\r\\nAnd looking down on everything  \\r\\nI crashed into his arms  \\r\\nAmelia, it was just a false alarm  \\r\\n  \\r\\nI pulled into the Cactus Tree Motel  \\r\\nTo shower off the dust  \\r\\nAnd I slept on the strange pillows of my wanderlust  \\r\\nI dreamed of 747's  \\r\\nOver geometric farms  \\r\\nDreams, Amelia, dreams and false alarms\\r\\n\\r\\n  \n",
       "..                                                                                                                                                                                                                                                                                                                                                                                                                                                                                                                                                                                                                                                                                                                                                                                                                                                                                                                                                                                                                                                                                                                                                                                                                                                                                                                                                                                                                                                                                                                                                                                                                                                                                                                                                                                                                                                                                                                                                                                                                                                                                                                                                                                                                                                                                                                                                                                                                            ...  \n",
       "495                                                                                                                                                                                                                                                                                                                                                                                                                                                                                                                                                                                                                                                                                                                                                                                                         Shattered inside and scattered around  \\r\\nWere pieces of her broken heart  \\r\\nI gathered her up, the pieces I found  \\r\\nI put her back together like a busted guitar  \\r\\nBut some glue holds and some glue don't In spite of everything I tried  \\r\\nSomebody's stole my darlin'  \\r\\nRight before my very eyes  \\r\\n  \\r\\nHe didn't walk, talk or push his way in  \\r\\nOr fly through the windows on a gust of hot wind  \\r\\nHe didn't sprout wings  \\r\\nAnd he sure wasn't playin' no harp  \\r\\nAs low as he was, I couldn't see him  \\r\\nSlitherin' around in the dark  \\r\\nHe must've crawled through  \\r\\nA little bitty crack in her heart  \\r\\n  \\r\\nCopin' with hone and hoping i'm wrong  \\r\\nBut I sure see a definite change  \\r\\nThere's look in her eyes that's sayin' goodbye  \\r\\nAnd her snuggle when I hold her don't feel the same  \\r\\nThe way her heart bests for that sneaky thief  \\r\\nYou would picture him dark and tall  \\r\\nBut the feller that stole my darlin'  \\r\\nLord, he'd have to be very small  \\r\\n  \\r\\nHe didn't walk, talk or push his way in  \\r\\nOr fly through the windows on a gust of hot wind  \\r\\nHe didn't sprout wings  \\r\\nAnd he sure wasn't playin' no harp  \\r\\nAs low as he was, I couldn't see him  \\r\\nSlitherin' around in the dark  \\r\\nHe must've crawled through  \\r\\nA little bitty crack in her heart  \\r\\n  \\r\\nAs low as he was, I couldn't see him  \\r\\nSlitherin' around in the dark  \\r\\nHe must've crawled through  \\r\\nA little bitty crack in her heart  \\r\\nLord, he must've craweled through  \\r\\nA little bitty crack in her heart\\r\\n\\r\\n  \n",
       "496                                                                                                                                                                                                                                                                                                                                                                                                                                                                                                                                                                                                                                                                                                                                                                                                                                                                                                                                                                                                                                                                                                                                                                        Oh, baby -- this is the land of danger (each and every home a battlefield)  \\r\\nOh, baby -- this is the throat of a stranger (searching for the blood  \\r\\nThat's now congealed)  \\r\\nOh, baby -- this is a thick muddy mystery (tearing at the pages of our past)  \\r\\nOh, baby -- this is the straight path of history (human motion -- land and  \\r\\nOcean)  \\r\\nTry to run, try to hide  \\r\\nIt's been a long, long, long, long long, long [long] time  \\r\\n[It's been a long, long, long, long, long time]  \\r\\nOh, baby -- this is the fresh flesh of anger (calling out for action in the  \\r\\nStreets)  \\r\\nOh, baby -- this is a slow running canker (opened up by victories and defeats)  \\r\\nOh, baby -- this is the night of the dancer (dancing on a time bomb in my\\r\\nhead)  \\r\\nOh, baby -- this is the ultimate cancer (human notion -- fear in motion)  \\r\\nTry to run, try to hide  \\r\\nIt's been a long, long, long, long long, long [long] time  \\r\\n[It's been a long, long, long, long, long time]  \\r\\n[Don't tell me everything's gonna work out anymore  \\r\\nDon't tell me everything's gonna work out anymore]  \\r\\n[Of danger, of danger, of danger, of danger]  \\r\\n[Don't tell me everything's gonna work out]  \\r\\n\\r\\n  \n",
       "497                                                                                                                                                                                                                                                                                                                                                                                                                                                                                                                                                                                                                                                                                                                                                                                                                                                                                                                                                                                                                                                                                                                                                                                                                                                                                                                                                                                                                                                                                                                                                                                            We need a leader  \\r\\nWe can't seem to help ourselves  \\r\\nFighting and lying  \\r\\nWe can't seem to let it go  \\r\\nWe live each day  \\r\\nOn a small piece of borrowed time  \\r\\nWhy aren't we trying  \\r\\nTo enjoy this crazy ride  \\r\\nWhat are we gonna do about it ?  \\r\\n  \\r\\nGod save us all  \\r\\nGod save us all  \\r\\nGod save us all  \\r\\nIf we really try  \\r\\nMaybe we can make it  \\r\\n  \\r\\nWe need a teacher  \\r\\nWe must learn to see the light  \\r\\nLet's get together  \\r\\nThis world needs us to do right  \\r\\nThere's too much poverty, sickness  \\r\\nThere's pain and strife  \\r\\nWhy aren't we trying  \\r\\nTo improve this thing called life  \\r\\nWhat are we gonna do about it ?  \\r\\n  \\r\\nGod save us all  \\r\\nGod save us all  \\r\\nGod save us all  \\r\\nIf we really try  \\r\\nMaybe we can make it\\r\\n\\r\\n  \n",
       "498                                                                                                                                                                                                                                                                                                                                                                                                                                                                                                                                                                                                                                                                                                                                               Well, did you ever have something, you want the whole wide world to know\\r\\nabout?  \\r\\nIt's that something I must tell you, that you just can't live without.  \\r\\nTen times your fingers, and double your toes,  \\r\\nThat's how much I love you and how much it shows.  \\r\\n  \\r\\nCHORUS  \\r\\nYou know that I am ... hooked on love.  \\r\\nI'll tell you what I am ... hooked on love.  \\r\\nBelieve me when I say it ... hooked on love.  \\r\\nHooked on love, ohhhh ...  \\r\\n  \\r\\nMy brothers and sisters, hear what I say.  \\r\\nI'm gonna' love you, to my dying day.  \\r\\nWhen I tell you that I love you, well, at least I tried.  \\r\\nI want you to believe me, this ain't no lie.  \\r\\n  \\r\\nCHORUS  \\r\\n  \\r\\nSatisfy my need in life, now, let me hear you say.  \\r\\nYou'll be lovin' me alright, until your dyin' day.  \\r\\nJust say it a little bit louder now, I'm startin' to get in your groove, yeah.  \\r\\nYou've got nothing to worry about, your love is on the move.  \\r\\nI hope some day the light of love shines bright upon your face.  \\r\\nI don't care who you are, I love the human race.  \\r\\n  \\r\\nSatisfy my need in life, now, let me hear you say.  \\r\\nYou'll be lovin' me alright, until your dyin' day.  \\r\\nJust say it a little bit louder now, I'm startin' to get in your groove, yeah  \\r\\nYou've got nothing to worry about, your love is on the move.  \\r\\nI hope some day the light of love shines bright upon your face.  \\r\\nI don't care who you are, I love the human race.  \\r\\n  \\r\\nCHORUS (with variations)  \\r\\n  \\r\\nCHORUS (with variations)  \\r\\n  \\r\\nCHORUS (with variations)  \\r\\n  \\r\\nCHORUS (with variations)\\r\\n\\r\\n  \n",
       "499                                                                                                                                                                                                                                                                                                                                                                                                                                                                                                                                                                                                                                                                                                                                                                                                                                                                                                                                                                                                                                                                                                                                                                                                                                                                                                                                                                                                                                               If you should need me deep in the night  \\r\\nMy arms around you in shades of twilight  \\r\\nIf there's a reason for livin' without me  \\r\\nJust let me know and I'll move on  \\r\\n  \\r\\nDown to the station with the big wheels burnin'  \\r\\nGonna get my ticket to play out that role which I've been given  \\r\\n  \\r\\nHome is where the heart is  \\r\\nBut at times a good home must be broken  \\r\\nThe wine has grown bitter  \\r\\nFrom the harsh words we have spoken  \\r\\n  \\r\\nIf there's a chance for someone else  \\r\\nTo make you feel life is worth livin'  \\r\\nGive it a try oh lady  \\r\\nJust let me know and I'll move on  \\r\\n  \\r\\nHome is where the heart is  \\r\\nBut at times a good home must be broken  \\r\\nThe wine has grown bitter  \\r\\nFrom the harsh words we have spoken  \\r\\n  \\r\\nIf you should need me deep in the night  \\r\\nAt shades of twilight  \\r\\nIf there's a reason for livin' without me  \\r\\nJust let me know and I'll go on livin'\\r\\n\\r\\n  \n",
       "\n",
       "[500 rows x 3 columns]"
      ]
     },
     "execution_count": 213,
     "metadata": {},
     "output_type": "execute_result"
    }
   ],
   "source": [
    "data"
   ]
  },
  {
   "cell_type": "markdown",
   "id": "729f1fc4-61d8-494f-9180-38a769377e82",
   "metadata": {},
   "source": [
    "### Text cleaning / Text preprocessing"
   ]
  },
  {
   "cell_type": "code",
   "execution_count": 214,
   "id": "c6426cf8-901c-4127-bb55-38d8eb9cbc3f",
   "metadata": {},
   "outputs": [],
   "source": [
    "# 1. Remove newline and carriage return characters\n",
    "\n",
    "data[\"text\"] = data[\"text\"].replace(\"\\r\\n\", \" \")"
   ]
  },
  {
   "cell_type": "code",
   "execution_count": 215,
   "id": "c86ba760-8629-4c6b-a016-f554c9a1ec92",
   "metadata": {},
   "outputs": [],
   "source": [
    "# 2. Convert to lowercase\n",
    "\n",
    "data[\"text\"] = data[\"text\"].str.lower()"
   ]
  },
  {
   "cell_type": "code",
   "execution_count": 216,
   "id": "211ecded-c082-4fff-87d6-583106f42720",
   "metadata": {},
   "outputs": [],
   "source": [
    "# 3. Clean the 'text' column by removing extra spaces\n",
    "\n",
    "data[\"text\"] = data[\"text\"].apply(lambda x: re.sub(r'\\s+', ' ', x).strip())\n"
   ]
  },
  {
   "cell_type": "code",
   "execution_count": 217,
   "id": "33adfd92-20b2-430f-897e-390312e4e334",
   "metadata": {},
   "outputs": [],
   "source": [
    "# 4. Remove special characters or punctuation\n",
    "data[\"text\"] = data[\"text\"].apply(lambda x: re.sub(r'[^\\w\\s]', '',x).strip())"
   ]
  },
  {
   "cell_type": "code",
   "execution_count": 218,
   "id": "dc30f40c-0511-49c1-96eb-d0b657fb3fd7",
   "metadata": {},
   "outputs": [],
   "source": [
    "# Initialiser le lemmatizer\n",
    "lemmatizer = WordNetLemmatizer()\n",
    "\n",
    "# Mapper les tags POS de NLTK à ceux de WordNet\n",
    "def get_wordnet_pos(tag):\n",
    "    if tag.startswith('J'):\n",
    "        return wordnet.ADJ  # Adjectif\n",
    "    elif tag.startswith('V'):\n",
    "        return wordnet.VERB  # Verbe\n",
    "    elif tag.startswith('N'):\n",
    "        return wordnet.NOUN  # Nom\n",
    "    elif tag.startswith('R'):\n",
    "        return wordnet.ADV  # Adverbe\n",
    "    else:\n",
    "        return wordnet.NOUN  # Par défaut, considéré comme un nom\n",
    "\n",
    "# Fonction de lemmatisation améliorée\n",
    "def lemmatize_text(text):\n",
    "    # Tokenisation\n",
    "    tokens = word_tokenize(text.lower())\n",
    "    # POS tagging\n",
    "    pos_tags = pos_tag(tokens)\n",
    "    # Lemmatisation en fonction des POS\n",
    "    lemmas = [lemmatizer.lemmatize(token, get_wordnet_pos(tag)) for token, tag in pos_tags]\n",
    "    return ' '.join(lemmas)\n"
   ]
  },
  {
   "cell_type": "code",
   "execution_count": 219,
   "id": "d7e32e57-de6c-43af-890d-29d7b72d8f22",
   "metadata": {},
   "outputs": [
    {
     "data": {
      "text/plain": [
       "0                                                                                                                                                                                                                                                                                                                                                                                                                                                                                                                                                                                                                                                                                                                                                                                                                                                                                                                                                                                                                                                                                                                                                                                                                                        baby i see this world have make you sad some people can be bad the thing they do the thing they say but baby ill wipe away those bitter tear ill chase away those restless fear that turn your blue sky into gray why worry there should be laughter after pain there should be sunshine after rain these thing have always be the same so why worry now why worry now baby when i get down i turn to you and you make sense of what i do and all the isnt hard be the same but baby just when this world seem mean and cold our love come shin red and gold and all the rest be by the way why worry there should be laughter after pain there should be sunshine after rain these thing have always be the same so why worry now why worry now\n",
       "1                                                                                                                                                                                                                                                                                                                                                                                                                                                                                                                                                                                                                                                                                                                                                                                                                                                                                                                                                                                                                                                                                                                                                            your mind make up youre gon na leave nothing i can say will stop you so it seem but before you up and go there just something you should know when you find that im the one you still need chorus one thin dime be all it take when you need someone who care these arm of mine be always open one thin dime be all you need and ill be there oh youre chasing rainbow and i understand when youre through ill take you back again ill be wait patiently for when you come back to me aint nobody else can love you like i can chorus you know the number im always home so honey just pick up and dial that telephone when this world treat you unkind get your momma on the line there aint no need for you to ever be alone chorus these arm of mine oh theyre always open one thin dime be all you need and ill be there\n",
       "2      dont that bring you down down down repeat x4 dont give yourself away dont live your life that way of course he gon na say anything you want hell leave quick than he come now youve get yourself to blame dont put yourself back in the fire again it the same damn thing youre so quick to believe and do it over and over again and it the same mistake that im watch you make and do it over and over again so before they bring you down you get ta stand for something or youll fall for anything til you fall for anything til you fall for you get ta stand for something or youll fall for anything til you fall for anything til you fall for dont that bring you down down down x4 oh please dont be so naive dont wait til your heart bleeds love wasnt build for speed listen to me girl he keep fuck with your head tryin to get you into bed and in the morning youll just hate yourself it the same damn thing youre so quick to believe and do it over nd over again and it the same mistake that im watch you make and do it over and over and over again before they bring you down you get ta stand for something or youll fall for anything til you fall for anything til you fall for you get ta stand for something or youll fall for anything til you for anything til you fall for dont that bring you down down down repeat x4 repeat x3 can you give until there nothing to give until there nothing to give until there nothing to give before they bring you down you get ta stand for something or youll fall for anything til you fall for anything til you fall for you get ta stand for something or youll fall for anything til you fall for anything til you fall for you get ta stand for something or youll fall for anything til you fall for anything til you fall for you get ta stand for something or youll fall for anything til you fall for anything before they bring you down down down dont that bring you down down down repeat x4\n",
       "3                                                                                                                                                                                                                                                                                                                                                                                                                                                                                                                                                                                                                                                                                                                                                                                                                                                                                                                                                                                                                                                                                                                                                                                                                                                                                                                  after all the jack be in their box and the clown have all go to bed you can hear happiness stagger on down street footprint dress in red and the wind whisper mary a broom be drearily sweep up the broken piece of yesterday life somewhere a queen be weep somewhere a king have no wife and the wind it cry mary the traffic light they turn blue tomorrow and shine their emptiness down on my bed the tiny island sag downstream cause the life theyd live be dead and the wind scream mary will the wind ever remember the name it have blow in the past and with this crutch it old age and it wisdom it whisper no this will be the last and the wind cry mary\n",
       "4                                                                                                                                                                                                                                                                                                                                                                                                                                                                                                                                                                                      i be drive across the burning desert when i spot six jet plane leave six white vapor trail across the bleak terrain it be the hexagram of the heaven it be the string of my guitar amelia it be just a false alarm the drone of fly engine be a song so wild and blue it scramble time and season if it get through to you then your life become a travelogue of picturepostcardcharms amelia it be just a false alarm people will tell you where theyve go theyll tell you where to go but till you get there yourself you never really know where some have find their paradise others just come to harm oh amelia it be just a false alarm i wish that he be here tonight it so hard to obey his sad request of me to kindly stay away so this be how i hide the hurt a the road lead curse and charm i tell amelia it be just a false alarm a ghost of aviation she be swallow by the sky or by the sea like me she have a dream to fly like icarus ascend on beautiful foolish arm amelia it be just a false alarm maybe ive never really love i guess that be the truth ive spent my whole life in cloud at icy altitude and look down on everything i crash into his arm amelia it be just a false alarm i pull into the cactus tree motel to shower off the dust and i sleep on the strange pillow of my wanderlust i dream of 747s over geometric farm dream amelia dream and false alarm\n",
       "                                                                                                                                                                                                                                                                                                                                                                                                                                                                                                                                                                                                                                                                                                                                                                                                                                                                                                                                                                                              ...                                                                                                                                                                                                                                                                                                                                                                                                                                                                                                                                                                                                                                                                                                                                                                                                                                                                                                                                                                                        \n",
       "495                                                                                                                                                                                                                                                                                                                                                                                                                                                                                                                                                                                                                                                              shatter inside and scatter around be piece of her broken heart i gather her up the piece i find i put her back together like a busted guitar but some glue hold and some glue dont in spite of everything i try somebodys stole my darlin right before my very eyes he didnt walk talk or push his way in or fly through the window on a gust of hot wind he didnt sprout wing and he sure wasnt playin no harp as low a he be i couldnt see him slitherin around in the dark he mustve crawl through a little bitty crack in her heart copin with hone and hop im wrong but i sure see a definite change there look in her eye thats sayin goodbye and her snuggle when i hold her dont feel the same the way her heart best for that sneaky thief you would picture him dark and tall but the feller that stole my darlin lord hed have to be very small he didnt walk talk or push his way in or fly through the window on a gust of hot wind he didnt sprout wing and he sure wasnt playin no harp as low a he be i couldnt see him slitherin around in the dark he mustve crawl through a little bitty crack in her heart as low a he be i couldnt see him slitherin around in the dark he mustve crawl through a little bitty crack in her heart lord he mustve craweled through a little bitty crack in her heart\n",
       "496                                                                                                                                                                                                                                                                                                                                                                                                                                                                                                                                                                                                                                                                                                                                                                                                                                                                                                                                                                               oh baby this be the land of danger each and every home a battlefield oh baby this be the throat of a stranger search for the blood thats now congeal oh baby this be a thick muddy mystery tearing at the page of our past oh baby this be the straight path of history human motion land and ocean try to run try to hide it be a long long long long long long long time it be a long long long long long time oh baby this be the fresh flesh of anger call out for action in the street oh baby this be a slow running canker open up by victory and defeat oh baby this be the night of the dancer dance on a time bomb in my head oh baby this be the ultimate cancer human notion fear in motion try to run try to hide it be a long long long long long long long time it be a long long long long long time dont tell me everythings gon na work out anymore dont tell me everythings gon na work out anymore of danger of danger of danger of danger dont tell me everythings gon na work out\n",
       "497                                                                                                                                                                                                                                                                                                                                                                                                                                                                                                                                                                                                                                                                                                                                                                                                                                                                                                                                                                                                                                                                                                                                                                                                                                                                                                                                                         we need a leader we cant seem to help ourselves fight and lie we cant seem to let it go we live each day on a small piece of borrowed time why arent we try to enjoy this crazy ride what be we gon na do about it god save u all god save u all god save u all if we really try maybe we can make it we need a teacher we must learn to see the light let get together this world need u to do right there too much poverty sickness there pain and strife why arent we try to improve this thing call life what be we gon na do about it god save u all god save u all god save u all if we really try maybe we can make it\n",
       "498                                                                                                                                                                                                                                                                                                                                                                                                                                                                                                                                                                                                                                               well do you ever have something you want the whole wide world to know about it that something i must tell you that you just cant live without ten time your finger and double your toe thats how much i love you and how much it show chorus you know that i be hook on love ill tell you what i be hook on love believe me when i say it hook on love hook on love ohhhh my brother and sister hear what i say im gon na love you to my die day when i tell you that i love you well at least i try i want you to believe me this aint no lie chorus satisfy my need in life now let me hear you say youll be lovin me alright until your dyin day just say it a little bit louder now im startin to get in your groove yeah youve get nothing to worry about your love be on the move i hope some day the light of love shine bright upon your face i dont care who you be i love the human race satisfy my need in life now let me hear you say youll be lovin me alright until your dyin day just say it a little bit louder now im startin to get in your groove yeah youve get nothing to worry about your love be on the move i hope some day the light of love shine bright upon your face i dont care who you be i love the human race chorus with variation chorus with variation chorus with variation chorus with variation\n",
       "499                                                                                                                                                                                                                                                                                                                                                                                                                                                                                                                                                                                                                                                                                                                                                                                                                                                                                                                                                                                                                                                                                                                                                                                 if you should need me deep in the night my arm around you in shade of twilight if theres a reason for livin without me just let me know and ill move on down to the station with the big wheel burnin gon na get my ticket to play out that role which ive be give home be where the heart be but at time a good home must be break the wine have grow bitter from the harsh word we have speak if there a chance for someone else to make you feel life be worth livin give it a try oh lady just let me know and ill move on home be where the heart be but at time a good home must be break the wine have grow bitter from the harsh word we have speak if you should need me deep in the night at shade of twilight if theres a reason for livin without me just let me know and ill go on livin\n",
       "Name: text, Length: 500, dtype: object"
      ]
     },
     "execution_count": 219,
     "metadata": {},
     "output_type": "execute_result"
    }
   ],
   "source": [
    "# Appliquer la lemmatisation à la colonne 'text'\n",
    "data['text'].apply(lambda x: lemmatize_text(x))\n"
   ]
  },
  {
   "cell_type": "code",
   "execution_count": 220,
   "id": "65f7b9de-1bbb-4fdb-985a-2265ea0b4f6a",
   "metadata": {},
   "outputs": [
    {
     "data": {
      "text/html": [
       "<div>\n",
       "<style scoped>\n",
       "    .dataframe tbody tr th:only-of-type {\n",
       "        vertical-align: middle;\n",
       "    }\n",
       "\n",
       "    .dataframe tbody tr th {\n",
       "        vertical-align: top;\n",
       "    }\n",
       "\n",
       "    .dataframe thead th {\n",
       "        text-align: right;\n",
       "    }\n",
       "</style>\n",
       "<table border=\"1\" class=\"dataframe\">\n",
       "  <thead>\n",
       "    <tr style=\"text-align: right;\">\n",
       "      <th></th>\n",
       "      <th>artist</th>\n",
       "      <th>song</th>\n",
       "      <th>text</th>\n",
       "    </tr>\n",
       "  </thead>\n",
       "  <tbody>\n",
       "    <tr>\n",
       "      <th>0</th>\n",
       "      <td>Dire Straits</td>\n",
       "      <td>Why Worry</td>\n",
       "      <td>baby i see this world has made you sad some people can be bad the things they do the things they say but baby ill wipe away those bitter tears ill chase away those restless fears that turn your blue skies into gray why worry there should be laughter after pain there should be sunshine after rain these things have always been the same so why worry now why worry now baby when i get down i turn to you and you make sense of what i do and all the isnt hard is the same but baby just when this world seems mean and cold our love comes shinning red and gold and all the rest is by the way why worry there should be laughter after pain there should be sunshine after rain these things have always been the same so why worry now why worry now</td>\n",
       "    </tr>\n",
       "    <tr>\n",
       "      <th>1</th>\n",
       "      <td>Reba Mcentire</td>\n",
       "      <td>One Thin Dime</td>\n",
       "      <td>your minds made up youre gonna leave nothing i can say will stop you so it seems but before you up and go theres just something you should know when you find that im the one you still need chorus one thin dime is all it takes when you need someone who cares these arms of mine are always open one thin dime is all you need and ill be there oh youre chasing rainbows and i understand when youre through ill take you back again ill be waiting patiently for when you come back to me aint nobody else can love you like i can chorus you know the number im always home so honey just pick up and dial that telephone when this world treats you unkind get your momma on the line there aint no need for you to ever be alone chorus these arms of mine oh theyre always open one thin dime is all you need and ill be there</td>\n",
       "    </tr>\n",
       "    <tr>\n",
       "      <th>2</th>\n",
       "      <td>The Script</td>\n",
       "      <td>Fall For Anything</td>\n",
       "      <td>dont that bring you down down down repeat x4 dont give yourself away dont live your life that way of course hes gonna say anything you want hell leave quicker than he came now youve got yourself to blame dont put yourself back in the fire again its the same damn thing youre so quick to believe and do it over and over again and its the same mistakes that im watching you make and do it over and over again so before they bring you down you gotta stand for something or youll fall for anything til you fall for anything til you fall for you gotta stand for something or youll fall for anything til you fall for anything til you fall for dont that bring you down down down x4 oh please dont be so naive dont wait til your heart bleeds love wasnt built for speed listen to me girl he keeps fucking with your head tryin to get you into bed and in the morning youll just hate yourself its the same damn thing youre so quick to believe and do it over nd over again and its the same mistakes that im watching you make and do it over and over and over again before they bring you down you gotta stand for something or youll fall for anything til you fall for anything til you fall for you gotta stand for something or youll fall for anything til you for anything til you fall for dont that bring you down down down repeat x4 repeat x3 can you give until theres nothing to give until theres nothing to give until theres nothing to give before they bring you down you gotta stand for something or youll fall for anything til you fall for anything til you fall for you gotta stand for something or youll fall for anything til you fall for anything til you fall for you gotta stand for something or youll fall for anything til you fall for anything til you fall for you gotta stand for something or youll fall for anything til you fall for anything before they bring you down down down dont that bring you down down down repeat x4</td>\n",
       "    </tr>\n",
       "    <tr>\n",
       "      <th>3</th>\n",
       "      <td>Sting</td>\n",
       "      <td>The Wind Cries Mary</td>\n",
       "      <td>after all the jacks are in their boxes and the clowns have all gone to bed you can hear happiness staggering on down street footprints dressed in red and the wind whispers mary a broom is drearily sweeping up the broken pieces of yesterdays life somewhere a queen is weeping somewhere a king has no wife and the wind it cries mary the traffic lights they turn blue tomorrow and shine their emptiness down on my bed the tiny island sags downstream cause the life theyd lived is dead and the wind screams mary will the wind ever remember the names it has blown in the past and with this crutch its old age and its wisdom it whispers no this will be the last and the wind cries mary</td>\n",
       "    </tr>\n",
       "    <tr>\n",
       "      <th>4</th>\n",
       "      <td>Joni Mitchell</td>\n",
       "      <td>Amelia</td>\n",
       "      <td>i was driving across the burning desert when i spotted six jet planes leaving six white vapor trails across the bleak terrain it was the hexagram of the heavens it was the strings of my guitar amelia it was just a false alarm the drone of flying engines is a song so wild and blue it scrambles time and seasons if it gets through to you then your life becomes a travelogue of picturepostcardcharms amelia it was just a false alarm people will tell you where theyve gone theyll tell you where to go but till you get there yourself you never really know where some have found their paradise others just come to harm oh amelia it was just a false alarm i wish that he was here tonight its so hard to obey his sad request of me to kindly stay away so this is how i hide the hurt as the road leads cursed and charmed i tell amelia it was just a false alarm a ghost of aviation she was swallowed by the sky or by the sea like me she had a dream to fly like icarus ascending on beautiful foolish arms amelia it was just a false alarm maybe ive never really loved i guess that is the truth ive spent my whole life in clouds at icy altitude and looking down on everything i crashed into his arms amelia it was just a false alarm i pulled into the cactus tree motel to shower off the dust and i slept on the strange pillows of my wanderlust i dreamed of 747s over geometric farms dreams amelia dreams and false alarms</td>\n",
       "    </tr>\n",
       "  </tbody>\n",
       "</table>\n",
       "</div>"
      ],
      "text/plain": [
       "          artist                 song  \\\n",
       "0   Dire Straits            Why Worry   \n",
       "1  Reba Mcentire        One Thin Dime   \n",
       "2     The Script    Fall For Anything   \n",
       "3          Sting  The Wind Cries Mary   \n",
       "4  Joni Mitchell               Amelia   \n",
       "\n",
       "                                                                                                                                                                                                                                                                                                                                                                                                                                                                                                                                                                                                                                                                                                                                                                                                                                                                                                                                                                                                                                                                                                                                                                                                                                                                                                                                                                                                                                                                                                                                                                                                                                                                                                                                                                                                                                                                                                                                                                                              text  \n",
       "0                                                                                                                                                                                                                                                                                                                                                                                                                                                                                                                                                                                                                                                                                                                                                                                                                                                                                                                                                                                                                                                                                                                                                                                                                                baby i see this world has made you sad some people can be bad the things they do the things they say but baby ill wipe away those bitter tears ill chase away those restless fears that turn your blue skies into gray why worry there should be laughter after pain there should be sunshine after rain these things have always been the same so why worry now why worry now baby when i get down i turn to you and you make sense of what i do and all the isnt hard is the same but baby just when this world seems mean and cold our love comes shinning red and gold and all the rest is by the way why worry there should be laughter after pain there should be sunshine after rain these things have always been the same so why worry now why worry now  \n",
       "1                                                                                                                                                                                                                                                                                                                                                                                                                                                                                                                                                                                                                                                                                                                                                                                                                                                                                                                                                                                                                                                                                                                                                         your minds made up youre gonna leave nothing i can say will stop you so it seems but before you up and go theres just something you should know when you find that im the one you still need chorus one thin dime is all it takes when you need someone who cares these arms of mine are always open one thin dime is all you need and ill be there oh youre chasing rainbows and i understand when youre through ill take you back again ill be waiting patiently for when you come back to me aint nobody else can love you like i can chorus you know the number im always home so honey just pick up and dial that telephone when this world treats you unkind get your momma on the line there aint no need for you to ever be alone chorus these arms of mine oh theyre always open one thin dime is all you need and ill be there  \n",
       "2  dont that bring you down down down repeat x4 dont give yourself away dont live your life that way of course hes gonna say anything you want hell leave quicker than he came now youve got yourself to blame dont put yourself back in the fire again its the same damn thing youre so quick to believe and do it over and over again and its the same mistakes that im watching you make and do it over and over again so before they bring you down you gotta stand for something or youll fall for anything til you fall for anything til you fall for you gotta stand for something or youll fall for anything til you fall for anything til you fall for dont that bring you down down down x4 oh please dont be so naive dont wait til your heart bleeds love wasnt built for speed listen to me girl he keeps fucking with your head tryin to get you into bed and in the morning youll just hate yourself its the same damn thing youre so quick to believe and do it over nd over again and its the same mistakes that im watching you make and do it over and over and over again before they bring you down you gotta stand for something or youll fall for anything til you fall for anything til you fall for you gotta stand for something or youll fall for anything til you for anything til you fall for dont that bring you down down down repeat x4 repeat x3 can you give until theres nothing to give until theres nothing to give until theres nothing to give before they bring you down you gotta stand for something or youll fall for anything til you fall for anything til you fall for you gotta stand for something or youll fall for anything til you fall for anything til you fall for you gotta stand for something or youll fall for anything til you fall for anything til you fall for you gotta stand for something or youll fall for anything til you fall for anything before they bring you down down down dont that bring you down down down repeat x4  \n",
       "3                                                                                                                                                                                                                                                                                                                                                                                                                                                                                                                                                                                                                                                                                                                                                                                                                                                                                                                                                                                                                                                                                                                                                                                                                                                                                          after all the jacks are in their boxes and the clowns have all gone to bed you can hear happiness staggering on down street footprints dressed in red and the wind whispers mary a broom is drearily sweeping up the broken pieces of yesterdays life somewhere a queen is weeping somewhere a king has no wife and the wind it cries mary the traffic lights they turn blue tomorrow and shine their emptiness down on my bed the tiny island sags downstream cause the life theyd lived is dead and the wind screams mary will the wind ever remember the names it has blown in the past and with this crutch its old age and its wisdom it whispers no this will be the last and the wind cries mary  \n",
       "4                                                                                                                                                                                                                                                                                                                                                                                                                                                                                                                                  i was driving across the burning desert when i spotted six jet planes leaving six white vapor trails across the bleak terrain it was the hexagram of the heavens it was the strings of my guitar amelia it was just a false alarm the drone of flying engines is a song so wild and blue it scrambles time and seasons if it gets through to you then your life becomes a travelogue of picturepostcardcharms amelia it was just a false alarm people will tell you where theyve gone theyll tell you where to go but till you get there yourself you never really know where some have found their paradise others just come to harm oh amelia it was just a false alarm i wish that he was here tonight its so hard to obey his sad request of me to kindly stay away so this is how i hide the hurt as the road leads cursed and charmed i tell amelia it was just a false alarm a ghost of aviation she was swallowed by the sky or by the sea like me she had a dream to fly like icarus ascending on beautiful foolish arms amelia it was just a false alarm maybe ive never really loved i guess that is the truth ive spent my whole life in clouds at icy altitude and looking down on everything i crashed into his arms amelia it was just a false alarm i pulled into the cactus tree motel to shower off the dust and i slept on the strange pillows of my wanderlust i dreamed of 747s over geometric farms dreams amelia dreams and false alarms  "
      ]
     },
     "execution_count": 220,
     "metadata": {},
     "output_type": "execute_result"
    }
   ],
   "source": [
    "data.head()"
   ]
  },
  {
   "cell_type": "code",
   "execution_count": 221,
   "id": "3129e86d-ad54-4d28-93f8-7f2e284c3e71",
   "metadata": {},
   "outputs": [],
   "source": [
    "# Transformer un texte brut en une représentation numérique\n",
    "from sklearn.feature_extraction.text import TfidfVectorizer\n",
    "\n",
    "# Calculer la similarité entre deux vecteurs\n",
    "from sklearn.metrics.pairwise import cosine_similarity"
   ]
  },
  {
   "cell_type": "code",
   "execution_count": 222,
   "id": "1e8e7072-2735-4083-9e03-f53657e78dac",
   "metadata": {},
   "outputs": [],
   "source": [
    "tfid = TfidfVectorizer(analyzer=\"word\",stop_words=\"english\")\n",
    "\n",
    "matrix = tfid.fit_transform(data[\"text\"])"
   ]
  },
  {
   "cell_type": "code",
   "execution_count": 223,
   "id": "799de8e3-1bb1-4d79-8365-32b4cfba6fbf",
   "metadata": {},
   "outputs": [],
   "source": [
    "similar = cosine_similarity(matrix,matrix)"
   ]
  },
  {
   "cell_type": "code",
   "execution_count": 224,
   "id": "61998493-87dc-40e6-8c55-11af5bf907d4",
   "metadata": {},
   "outputs": [
    {
     "data": {
      "text/plain": [
       "array([1.00000000e+00, 4.57284700e-02, 7.10001127e-03, 2.17420869e-02,\n",
       "       2.13281470e-02, 1.36878772e-02, 1.87472177e-02, 4.68321720e-02,\n",
       "       7.15126451e-03, 1.51435650e-02, 1.49773747e-02, 0.00000000e+00,\n",
       "       4.97115424e-02, 2.24893488e-03, 1.81543352e-03, 4.49520479e-03,\n",
       "       7.87344107e-03, 3.14005241e-02, 3.88552057e-02, 8.16769440e-03,\n",
       "       1.62594520e-02, 1.43536266e-02, 4.16270003e-02, 0.00000000e+00,\n",
       "       9.48993715e-03, 5.77115294e-02, 1.87790816e-02, 2.71672496e-02,\n",
       "       6.42706303e-02, 1.29987157e-02, 2.61771383e-02, 3.71607423e-02,\n",
       "       8.93391557e-02, 2.81662567e-02, 3.24589136e-02, 4.85335602e-02,\n",
       "       3.37475679e-02, 4.44417488e-02, 3.92225116e-02, 1.65761031e-02,\n",
       "       7.58935390e-02, 1.34154214e-02, 5.27553425e-02, 3.88209239e-02,\n",
       "       9.66122856e-03, 3.29619492e-03, 2.16392457e-02, 9.70786996e-03,\n",
       "       3.14942839e-02, 1.33605641e-02, 4.17710328e-02, 2.49121809e-03,\n",
       "       1.23509318e-02, 1.48481913e-02, 1.33544260e-02, 3.87831284e-03,\n",
       "       2.72931053e-02, 1.07481203e-02, 7.96286700e-02, 1.47997584e-02,\n",
       "       1.86590927e-01, 3.53436943e-03, 1.81053272e-02, 1.14017109e-02,\n",
       "       2.62250180e-02, 6.94331066e-03, 6.10201806e-02, 7.10886163e-02,\n",
       "       2.43368754e-02, 6.01513299e-02, 6.80585135e-04, 1.33705957e-01,\n",
       "       1.42813199e-02, 5.39198573e-03, 5.50977509e-03, 3.33715478e-02,\n",
       "       2.87989727e-02, 8.05139475e-02, 1.43800997e-02, 2.80845980e-02,\n",
       "       5.11609206e-02, 1.72543846e-02, 2.29824152e-02, 6.46187093e-02,\n",
       "       1.00918364e-02, 2.13048122e-02, 2.46700374e-02, 1.02871653e-01,\n",
       "       3.57244320e-02, 7.87907223e-02, 8.94772208e-03, 2.54647524e-02,\n",
       "       8.55054856e-02, 3.34983815e-02, 1.95573932e-03, 2.84643240e-02,\n",
       "       1.91851691e-02, 6.05368470e-02, 5.72705465e-02, 2.24396849e-02,\n",
       "       7.67700350e-02, 8.31901353e-03, 4.76480544e-03, 1.62721318e-02,\n",
       "       6.12199915e-02, 2.79520937e-02, 4.47367320e-02, 2.00469154e-02,\n",
       "       5.52286333e-02, 7.99384789e-02, 1.61282560e-02, 9.53318471e-03,\n",
       "       1.52980359e-02, 1.09227702e-02, 1.73034178e-02, 1.23481879e-02,\n",
       "       5.28303438e-02, 1.69660090e-01, 7.88904351e-02, 2.91631284e-02,\n",
       "       1.76751902e-03, 5.63508013e-02, 1.67890503e-02, 2.38713154e-02,\n",
       "       8.92831617e-03, 1.68494171e-03, 2.53951696e-02, 7.80950376e-02,\n",
       "       3.96850596e-02, 5.90140240e-04, 7.40178694e-03, 5.64137190e-03,\n",
       "       1.48640155e-02, 7.99310093e-02, 3.44956275e-02, 2.96101159e-02,\n",
       "       2.73911499e-02, 2.43534627e-02, 3.06298055e-02, 1.96817975e-02,\n",
       "       4.13786370e-02, 6.19167084e-02, 2.31441723e-02, 7.56733207e-02,\n",
       "       1.22456661e-03, 5.24975000e-02, 1.50913866e-02, 3.15917945e-02,\n",
       "       1.08291620e-02, 5.46685411e-02, 1.35670913e-02, 4.13389687e-02,\n",
       "       1.23285834e-02, 1.10019188e-02, 3.73942536e-03, 2.40143423e-03,\n",
       "       2.57915088e-02, 2.18287823e-02, 8.95412626e-03, 4.73576834e-03,\n",
       "       1.78741242e-02, 7.65740188e-02, 8.41246412e-02, 8.81892043e-02,\n",
       "       3.24228310e-02, 6.50275623e-03, 4.59907604e-02, 7.79487827e-03,\n",
       "       1.06993918e-02, 0.00000000e+00, 5.70159212e-02, 1.43599133e-02,\n",
       "       1.04586029e-02, 4.13554664e-03, 1.97350912e-02, 1.55775638e-02,\n",
       "       7.82893736e-03, 1.21586048e-03, 4.02157934e-02, 2.41855509e-02,\n",
       "       3.48360159e-03, 6.92718010e-03, 7.60433178e-03, 1.10956001e-01,\n",
       "       0.00000000e+00, 8.44583035e-03, 8.96454095e-02, 1.29732115e-02,\n",
       "       3.62881286e-02, 0.00000000e+00, 2.98515658e-02, 3.71670264e-02,\n",
       "       4.16262454e-02, 2.64055976e-02, 3.62878742e-02, 9.14038951e-02,\n",
       "       7.39199457e-03, 2.19115788e-03, 4.88850961e-03, 5.15305356e-02,\n",
       "       4.74476947e-02, 1.31284427e-02, 7.83095919e-02, 4.39557173e-02,\n",
       "       2.30941024e-02, 1.64341785e-03, 8.32559718e-03, 2.53964999e-02,\n",
       "       1.05782103e-02, 1.63210183e-02, 1.20498322e-01, 6.12430101e-04,\n",
       "       3.85132918e-02, 6.31775089e-03, 1.03798677e-02, 4.84397296e-02,\n",
       "       1.35471333e-02, 1.56474019e-02, 2.77710502e-02, 2.69719241e-02,\n",
       "       2.82517609e-03, 9.09860335e-02, 0.00000000e+00, 3.96817571e-02,\n",
       "       1.16113146e-01, 4.99834163e-02, 3.72029507e-03, 0.00000000e+00,\n",
       "       2.15611661e-02, 3.88846504e-02, 2.93211346e-02, 1.45782518e-02,\n",
       "       8.28635574e-03, 4.72385620e-03, 5.37543723e-02, 1.01122165e-01,\n",
       "       1.72982202e-02, 1.16207548e-02, 1.24114018e-02, 5.77500741e-03,\n",
       "       1.36923149e-02, 1.74329299e-02, 2.46377589e-03, 1.17043037e-01,\n",
       "       1.10406973e-02, 2.60303582e-02, 2.72644117e-03, 5.06971854e-02,\n",
       "       1.85031450e-02, 7.48274781e-02, 1.06752817e-02, 0.00000000e+00,\n",
       "       1.75492466e-02, 8.81496421e-02, 1.42842067e-02, 9.33605921e-03,\n",
       "       5.54620227e-02, 8.74787386e-02, 2.25881949e-02, 7.79582087e-02,\n",
       "       3.77137572e-02, 1.09428540e-02, 4.69854002e-02, 4.95369360e-02,\n",
       "       3.61650682e-02, 4.61719912e-02, 5.24263640e-02, 0.00000000e+00,\n",
       "       1.17282402e-02, 7.72715530e-03, 2.36246046e-02, 1.02087711e-02,\n",
       "       4.61477549e-03, 4.34168408e-02, 1.59496080e-02, 2.07106601e-02,\n",
       "       5.46074067e-03, 2.58959119e-02, 2.14639590e-02, 1.54819290e-03,\n",
       "       1.88549204e-02, 3.87261380e-03, 7.96286700e-02, 2.21603961e-02,\n",
       "       5.33595461e-02, 2.97741089e-02, 1.31277528e-02, 1.91743526e-02,\n",
       "       7.36223549e-03, 3.42428802e-02, 1.57365634e-02, 4.52202694e-03,\n",
       "       3.73398200e-02, 1.58004735e-02, 8.37025925e-03, 2.40871995e-02,\n",
       "       9.32032612e-03, 3.29531951e-02, 5.64980020e-02, 3.54260632e-02,\n",
       "       2.95787019e-02, 4.15894142e-02, 1.80299385e-02, 6.61231668e-02,\n",
       "       1.03772485e-02, 3.40161120e-02, 8.25307383e-02, 3.16148863e-03,\n",
       "       7.09640369e-02, 9.56259069e-03, 4.33745569e-02, 3.35614228e-03,\n",
       "       5.94117411e-02, 7.99342368e-03, 5.27958812e-03, 4.87858361e-02,\n",
       "       1.79127746e-02, 1.11711972e-02, 1.57280721e-02, 9.92623623e-03,\n",
       "       1.82870792e-02, 5.61813140e-02, 2.14181583e-02, 1.86660371e-02,\n",
       "       3.99500331e-03, 6.34554266e-03, 0.00000000e+00, 3.52997841e-02,\n",
       "       2.41290745e-03, 1.19192142e-02, 7.62482172e-02, 6.93383557e-03,\n",
       "       3.99219859e-02, 6.16572380e-03, 2.31663776e-03, 1.02408885e-02,\n",
       "       7.40688671e-02, 2.17713497e-02, 1.36384729e-01, 8.46287435e-03,\n",
       "       1.26448690e-02, 9.23138017e-03, 7.39887353e-02, 1.78409684e-02,\n",
       "       0.00000000e+00, 4.83906473e-02, 5.50535873e-03, 1.46086150e-02,\n",
       "       6.02158260e-02, 1.95743215e-02, 1.71809273e-01, 5.10700223e-02,\n",
       "       1.18095086e-02, 3.66841221e-03, 2.26744963e-02, 5.09233211e-03,\n",
       "       1.21283103e-02, 6.01667875e-02, 8.32905286e-02, 1.01260586e-03,\n",
       "       6.30454204e-02, 2.21474170e-02, 2.40321791e-02, 4.26821591e-03,\n",
       "       2.14762025e-02, 1.29767521e-02, 2.06430418e-02, 5.87827632e-02,\n",
       "       1.43355996e-02, 2.08745365e-02, 1.64174084e-03, 0.00000000e+00,\n",
       "       2.51796877e-02, 3.50967122e-02, 8.34157222e-02, 5.20198134e-02,\n",
       "       1.04987851e-02, 7.87121035e-02, 2.30519816e-03, 0.00000000e+00,\n",
       "       2.78660328e-02, 4.31619193e-03, 1.93214082e-02, 3.06227620e-03,\n",
       "       4.52229832e-02, 7.60075325e-02, 1.06561293e-02, 2.66750491e-02,\n",
       "       5.94524956e-03, 9.10200937e-03, 2.65321930e-02, 2.65057512e-02,\n",
       "       1.56046472e-02, 1.95689567e-02, 0.00000000e+00, 8.12612123e-03,\n",
       "       2.43171755e-02, 4.17303235e-02, 6.65472040e-02, 1.97110011e-02,\n",
       "       2.95943213e-02, 1.60266652e-02, 1.09995682e-02, 1.84015111e-02,\n",
       "       1.48560665e-02, 3.00407179e-02, 1.97250737e-02, 2.68366682e-02,\n",
       "       4.17892837e-02, 8.77284583e-03, 4.73197325e-02, 7.62983734e-02,\n",
       "       1.09924172e-02, 1.71291524e-02, 1.30972481e-01, 4.86334968e-04,\n",
       "       5.05928392e-02, 2.09432295e-02, 2.88404717e-02, 3.61682391e-02,\n",
       "       5.53844262e-02, 1.57578853e-02, 0.00000000e+00, 1.70780037e-02,\n",
       "       4.11010928e-02, 4.35585650e-03, 9.46060547e-02, 2.75622206e-03,\n",
       "       1.48922008e-02, 1.67279436e-02, 1.25287463e-02, 2.25696211e-02,\n",
       "       2.39048393e-02, 5.33907643e-02, 2.15989225e-02, 5.05509105e-03,\n",
       "       1.15453809e-02, 1.68173587e-02, 6.98012036e-02, 4.18923765e-02,\n",
       "       1.85285549e-02, 5.49251214e-02, 6.17822145e-03, 1.48909541e-02,\n",
       "       7.20023053e-03, 4.25421783e-03, 2.12148444e-02, 5.87054247e-03,\n",
       "       1.68206523e-02, 4.51773300e-02, 2.13502137e-02, 8.77982236e-03,\n",
       "       1.94373561e-02, 4.58699297e-02, 1.53478766e-02, 9.91179947e-03,\n",
       "       2.77725280e-02, 3.61019831e-03, 2.52846349e-02, 1.36290900e-02,\n",
       "       2.80061047e-02, 1.46452731e-02, 3.06914465e-03, 2.71450137e-02,\n",
       "       4.37842958e-02, 1.18313190e-02, 5.19526079e-02, 8.94495769e-03,\n",
       "       3.26499338e-02, 1.00587313e-01, 6.68260354e-02, 1.42291077e-02,\n",
       "       2.11311991e-02, 5.03133756e-02, 9.10003344e-04, 6.52140630e-02,\n",
       "       7.20978508e-02, 2.23923531e-02, 9.57375099e-02, 2.20894004e-02,\n",
       "       1.55017485e-02, 1.58932642e-02, 6.53417298e-02, 2.24021533e-01,\n",
       "       7.23081653e-02, 3.02530176e-02, 3.23019069e-03, 8.15040533e-02,\n",
       "       3.99860653e-02, 7.16824621e-03, 2.08518829e-02, 4.37733531e-02,\n",
       "       5.78872021e-02, 2.66419630e-02, 3.41947323e-02, 4.28023328e-03,\n",
       "       5.57474424e-02, 2.40427347e-02, 1.21790347e-01, 4.68012475e-02])"
      ]
     },
     "execution_count": 224,
     "metadata": {},
     "output_type": "execute_result"
    }
   ],
   "source": [
    "similar[0]"
   ]
  },
  {
   "cell_type": "markdown",
   "id": "4b835f57-1e8f-4635-adc1-f51ec7a4ec3f",
   "metadata": {},
   "source": [
    "### Recommender function"
   ]
  },
  {
   "cell_type": "code",
   "execution_count": 234,
   "id": "eadc8ca0-fc27-4280-824e-366aa9671a97",
   "metadata": {},
   "outputs": [],
   "source": [
    "def recommend_song(song_title, df, cosine_sim, top_n=4):\n",
    "    # Get the index of the song from the DataFrame\n",
    "    idx = df[df['song'] == song_title].index[0]\n",
    "    \n",
    "    # Get the pairwise similarity scores for the song with all other songs\n",
    "    sim_scores = list(enumerate(cosine_sim[idx]))\n",
    "    \n",
    "    # Sort the songs based on similarity scores in descending order\n",
    "    sim_scores = sorted(sim_scores, key=lambda x: x[1], reverse=True)\n",
    "    \n",
    "    # Get the indices of the top N similar songs (excluding the song itself)\n",
    "    sim_scores = sim_scores[1:top_n+1]\n",
    "    \n",
    "    # Get the song indices and corresponding similarity scores\n",
    "    song_indices = [i[0] for i in sim_scores]\n",
    "    song_scores = [i[1] for i in sim_scores]\n",
    "    \n",
    "    # Create a new DataFrame for the recommended songs\n",
    "    recommended_songs = df.iloc[song_indices].copy()\n",
    "    \n",
    "    # Now, safely set the similarity column\n",
    "    recommended_songs.loc[:, 'similarity'] = song_scores  # Use .loc to avoid the warning\n",
    "    \n",
    "    return recommended_songs[['artist', 'song', 'similarity']]\n"
   ]
  },
  {
   "cell_type": "code",
   "execution_count": 235,
   "id": "55aec91a-262c-4dd5-adbc-3d41b640f3b2",
   "metadata": {},
   "outputs": [
    {
     "name": "stdout",
     "output_type": "stream",
     "text": [
      "            artist                song  similarity\n",
      "418  Christy Moore      Cry Like A Man    0.228459\n",
      "224   Culture Club   Stand Down (Demo)    0.220089\n",
      "277    Cheap Trick    Tonight It's You    0.213630\n",
      "202      Foreigner  Ready For The Rain    0.198785\n"
     ]
    }
   ],
   "source": [
    "# Recommend songs similar to 'The Squid'\n",
    "recommended_songs = recommend_song(\"Fall For Anything\", data, similar)\n",
    "print(recommended_songs)"
   ]
  },
  {
   "cell_type": "code",
   "execution_count": null,
   "id": "87e631d9-fe37-48bd-b7f9-53746954a20f",
   "metadata": {},
   "outputs": [],
   "source": []
  },
  {
   "cell_type": "code",
   "execution_count": null,
   "id": "9eb8d18a-f668-47eb-8fc1-e7ec8a4db1b0",
   "metadata": {},
   "outputs": [],
   "source": []
  },
  {
   "cell_type": "code",
   "execution_count": null,
   "id": "33bc1507-7136-4f89-b16c-d4cef8c65e6b",
   "metadata": {},
   "outputs": [],
   "source": []
  }
 ],
 "metadata": {
  "kernelspec": {
   "display_name": "Python 3 (ipykernel)",
   "language": "python",
   "name": "python3"
  },
  "language_info": {
   "codemirror_mode": {
    "name": "ipython",
    "version": 3
   },
   "file_extension": ".py",
   "mimetype": "text/x-python",
   "name": "python",
   "nbconvert_exporter": "python",
   "pygments_lexer": "ipython3",
   "version": "3.12.7"
  }
 },
 "nbformat": 4,
 "nbformat_minor": 5
}
